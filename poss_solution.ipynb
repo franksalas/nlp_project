{
 "cells": [
  {
   "cell_type": "markdown",
   "metadata": {},
   "source": [
    "## NER Display"
   ]
  },
  {
   "cell_type": "code",
   "execution_count": 1,
   "metadata": {},
   "outputs": [],
   "source": [
    "import pandas as pd\n",
    "import numpy as np\n",
    "from data import clients  # our data\n",
    "import spacy\n",
    "from pprint import pprint\n",
    "nlp = spacy.load('en')\n",
    "from spacy import displacy\n",
    "import nltk\n",
    "#from terms import RE_MAP,REA_MAP\n",
    "from pprint import pprint\n",
    "from pathlib import Path\n",
    "\n",
    "from IPython.core.display import display, HTML"
   ]
  },
  {
   "cell_type": "markdown",
   "metadata": {},
   "source": [
    "### Sample Investor Memo Data\n",
    "- converted to json format to replicate API call\n",
    "- dummy data was added to complete name entity\n",
    "- Client A:\n",
    "    - **company**: Argos Group\n",
    "    - **contact**: Adam\n",
    "- Client B:\n",
    "    - **company**: Blue Industries\n",
    "    - **contact**: None\n",
    "- Client C:\n",
    "    - **company**: Circle Inc\n",
    "    - **contact**: Carol"
   ]
  },
  {
   "cell_type": "code",
   "execution_count": 2,
   "metadata": {},
   "outputs": [
    {
     "name": "stdout",
     "output_type": "stream",
     "text": [
      "{'client_A': {'memo_1': 'I recently caught up with Adam of Argos Group and he '\n",
      "                        'indicated they are actively trying to grow their\\n'\n",
      "                        '        portfolio in the US. They have been focused '\n",
      "                        'in NYC, but with his recent addition to the team, '\n",
      "                        'are\\n'\n",
      "                        '        looking in Chicago and on the West Coast. '\n",
      "                        'Their main focus continues to be high-rise office in '\n",
      "                        'CBDs, but\\n'\n",
      "                        '        are also considering urban multi-housing, '\n",
      "                        'preferably with a value-add component.',\n",
      "              'memo_2': 'I will be based in New York, mainly tasked with '\n",
      "                        'sourcing equity and debt investments in high-profile\\n'\n",
      "                        '        real estate assets in gateway markets with '\n",
      "                        'equity ticket $30M and up. My team and I will also '\n",
      "                        'look for JV\\n'\n",
      "                        '        and M&A opportunities of established real '\n",
      "                        'estate companies and platforms.',\n",
      "              'memo_3': 'They intend to add a large subterranean retail '\n",
      "                        'complex as well as reposition the building after the\\n'\n",
      "                        '        major tenant moves out in 2 years. For the '\n",
      "                        'most part they are value-add to opportunistic driven. '\n",
      "                        'They\\n'\n",
      "                        '        are focused on the following markets: NYC, '\n",
      "                        'Boston, DC, Chicago, SF, and LA. They will look at '\n",
      "                        'office, MH,\\n'\n",
      "                        '        and retail. They are solving to mid-teen '\n",
      "                        'returns and they have no max or min on their '\n",
      "                        'investment size.',\n",
      "              'memo_4': 'They are seeking large office/residential/retail '\n",
      "                        'deals in the Tri-State region. Looking for low teen '\n",
      "                        'return\\n'\n",
      "                        '        profile and 100% ownership (no operating '\n",
      "                        'partners). Typically looking for long term value and '\n",
      "                        'can\\n'\n",
      "                        '        handle temporary non cash flowing periods to '\n",
      "                        'help generate value. Currently not using much, if '\n",
      "                        'any,\\n'\n",
      "                        '        leverage on their deals. Global portfolio is '\n",
      "                        '70mm SF, US portfolio is two NYC assets (room to '\n",
      "                        'grow).'},\n",
      " 'client_B': {'memo_1': 'Retail Property Overview \\n'\n",
      "                        '        * Target investments are dominant centres '\n",
      "                        'that need work / capital improvements\\n'\n",
      "                        '        * Really like outlet malls\\n'\n",
      "                        '        * Own and like Paris high street',\n",
      "              'memo_2': 'Industrial Property Overview\\n'\n",
      "                        '        Blue Industries’s non-traded REIT is '\n",
      "                        'currently deploying $500 million/month into '\n",
      "                        'multifamily and industrial assets,\\n'\n",
      "                        '        with a focus on assets producing an '\n",
      "                        'immediate, steady cash flow with low cost basis.\\n'\n",
      "                        '        \\n'\n",
      "                        '        Typical parameters for the non-traded REIT '\n",
      "                        'are as follows:\\n'\n",
      "                        '        * B, B+ market (Atlanta, Baltimore, Phoenix)\\n'\n",
      "                        '        * Prefer to enter a secondary market and use '\n",
      "                        'higher leverage\\n'\n",
      "                        '        * 10-11% IRR with 60% leverage\\n'\n",
      "                        '        * 7% cash-on-cash returns\\n'\n",
      "                        '        * 5% net return\\n'\n",
      "                        '        \\n'\n",
      "                        '        Given Blue Industries’s current appetite for '\n",
      "                        'industrial product, they are open to a wide range of '\n",
      "                        'equity checks\\n'\n",
      "                        '        across primary and secondary markets, and '\n",
      "                        'programmatic ventures with proven operators and\\n'\n",
      "                        '        developers.\\n'\n",
      "                        '        \\n'\n",
      "                        '        Blue Industries’s opportunistic fund are far '\n",
      "                        'less active right now given the current pricing '\n",
      "                        'environment. Return\\n'\n",
      "                        '        metrics in these funds are hard to hit with '\n",
      "                        'cost basis where it is for industrial.',\n",
      "              'memo_3': 'Multi-Family Property Overview\\n'\n",
      "                        '        * Locations: looking everywhere in the US, '\n",
      "                        'but less active in the middle of the country. Avoid\\n'\n",
      "                        '        tertiary markets and low class property '\n",
      "                        'types\\n'\n",
      "                        '        * Very deep appetite for MF - $5.5B in MF '\n",
      "                        'last year. More stable and more downside protection\\n'\n",
      "                        '        * 3 Funds\\n'\n",
      "                        '            * Fund #1\\n'\n",
      "                        '                * Class B, suburban garden, 80-90’s '\n",
      "                        'vintage\\n'\n",
      "                        '                * High growth markets\\n'\n",
      "                        '                * Deal size: $250M+\\n'\n",
      "                        '            * Fund #2  Core-plus vehicle\\n'\n",
      "                        '                * Lower on the rick threshold, capped '\n",
      "                        'at 50%\\n'\n",
      "                        '                * Institutional quality in gateway '\n",
      "                        'markets\\n'\n",
      "                        '                * Completed two recaps in Seattle\\n'\n",
      "                        '                * Deal size: $250M\\n'\n",
      "                        '        * Fund #3\\n'\n",
      "                        '        * Invests heavily in MF\\n'\n",
      "                        '        * 7-8% cash on cash\\n'\n",
      "                        '        * Looking for $100M+ deals\\n'\n",
      "                        '        * Very flexible',\n",
      "              'memo_4': 'They are open to geographies and can do deals as '\n",
      "                        'small as $50mm.\\n'\n",
      "                        '        * Industrial: hungry for more industrial and '\n",
      "                        'need size/quality. Have difficulty pricing cold '\n",
      "                        'storage.\\n'\n",
      "                        '        * Healthcare/MOB/AL/IL: Hugely bullish as '\n",
      "                        'they continue to grow in the space.\\n'\n",
      "                        '        * Hospitality: cautious on the national hotel '\n",
      "                        'front, but interested in NYC\\n'\n",
      "                        '        * West Coast: consensus seems that as they '\n",
      "                        'continue buying and selling in early 2017, they will '\n",
      "                        'be\\n'\n",
      "                        '        a net buyer on the west coast in 2017.'},\n",
      " 'client_C': {'memo_1': 'I had a call with Carol at Circle Inc to discuss '\n",
      "                        'their investment criteria for office acquisitions. As '\n",
      "                        'many of you\\n'\n",
      "                        '        know, they are an office owner that has been '\n",
      "                        'focused on coastal markets and Chicago. He indicated\\n'\n",
      "                        '        that they are now having strategic '\n",
      "                        'discussions about entry into other markets such as '\n",
      "                        'Austin, Denver,\\n'\n",
      "                        '        Charlotte, Nashville, etc. At this point it '\n",
      "                        'is only exploratory and they are not ready to pursue '\n",
      "                        'new deals\\n'\n",
      "                        '        yet. They are going to focus on Austin first '\n",
      "                        'and have asked for our help educating them on the '\n",
      "                        'market.  \\n'\n",
      "                        '        We are coordinating a meeting next month in '\n",
      "                        'Austin to give them an overview and market tour. I '\n",
      "                        'let\\n'\n",
      "                        '        him know that we can help in other markets '\n",
      "                        'and will be ready to assist at the appropriate time.',\n",
      "              'memo_2': 'They would like to see all core and value-add '\n",
      "                        'multifamily and office opportunities in their target\\n'\n",
      "                        '        markets as well as all development deals.\\n'\n",
      "                        '        * New York\\n'\n",
      "                        '        * Chicago\\n'\n",
      "                        '        * Boston\\n'\n",
      "                        '        * San Francisco\\n'\n",
      "                        '        * Los Angeles\\n'\n",
      "                        '        * Portland/Seattle\\n'\n",
      "                        '        * Washington DC',\n",
      "              'memo_3': 'Circle Inc is aggressively looking to build their MH '\n",
      "                        'pipeline in LA via ground up development similar to '\n",
      "                        'what\\n'\n",
      "                        '        they are doing in the Bay Area and on the '\n",
      "                        'East Coast. Will look at apartments or condos, and ok '\n",
      "                        'with\\n'\n",
      "                        '        un-entitled sites as long as there is some '\n",
      "                        'income to limit downside. 150 units+ and product '\n",
      "                        'type\\n'\n",
      "                        '        agnostic (high/mid rise). Targeting a low-mid '\n",
      "                        '5% un-trended ROC.',\n",
      "              'memo_4': 'Circle Inc is very focused on the following markets '\n",
      "                        '(read: 90% of what they will do) Boston, NYC, DC, '\n",
      "                        'Chicago,\\n'\n",
      "                        '        Seattle. They will do value add and new '\n",
      "                        'development of office and multi-family. He mentioned '\n",
      "                        'they are\\n'\n",
      "                        '        mainly focused on development as they do not '\n",
      "                        'like buying at 4.0-4.5% caps (they are building to '\n",
      "                        '5.75%\\n'\n",
      "                        '        to 6.0% ROC).\\n'\n",
      "                        '        \\n'\n",
      "                        '        Multi-family-They really like the '\n",
      "                        'fundamentals of multi-family as they continue to see '\n",
      "                        'a migration into\\n'\n",
      "                        '        the cities across the U.S. and a movement '\n",
      "                        'away from home ownership. They believe transportation '\n",
      "                        'is\\n'\n",
      "                        '        key. They will continue to develop '\n",
      "                        'multi-family in urban locations.\\n'\n",
      "                        '        Office- They feel good about the fundamentals '\n",
      "                        'in all of their key markets. They are very focused '\n",
      "                        'on\\n'\n",
      "                        '        being in top tier locations with '\n",
      "                        'transportation and amenities. They are seeing a lot '\n",
      "                        'of major companies\\n'\n",
      "                        '        consolidating their offices into one '\n",
      "                        'accessible and highly desirable location and paying '\n",
      "                        'up for it.'}}\n"
     ]
    }
   ],
   "source": [
    "pprint(clients)"
   ]
  },
  {
   "cell_type": "code",
   "execution_count": 3,
   "metadata": {},
   "outputs": [],
   "source": [
    "df = pd.DataFrame.from_dict(clients)  # load our dirty data in pandas"
   ]
  },
  {
   "cell_type": "markdown",
   "metadata": {},
   "source": [
    "## Lets look at some of our objectives\n",
    "> \n",
    ">- Transforming unstructured data to structured data via information extraction system. For\n",
    "example, convert investor memo (text format) to a well-defined structure (table format with\n",
    "pre-defined values), such as investor name, preference (geography, property type, investment\n",
    "size)\n",
    "\n",
    "\n",
    "What we need is to extract entities\n",
    "- name : Person\n",
    "- prefrence\n",
    "    - geography : location\n",
    "    - property type : create\n",
    "\n",
    "- invesment size : money?"
   ]
  },
  {
   "cell_type": "markdown",
   "metadata": {},
   "source": [
    "## Name entity\n",
    "\n",
    "\n",
    "| TYPE                               | DESCRIPTION                                          | \n",
    "|------------------------------------|------------------------------------------------------| \n",
    "| `PERSON`                             | People, including fictional.                         | \n",
    "| `NORP`                               | Nationalities or religious or political groups.      | \n",
    "| `FAC`                                | Buildings, airports, highways, bridges, etc.         | \n",
    "| `ORG`                                | Companies, agencies, institutions, etc.              | \n",
    "| `GPE`                                | Countries, cities, states.                           | \n",
    "| `LOC`                                | Non-GPE locations, mountain ranges, bodies of water. | \n",
    "| `PRODUCT`                            | Objects, vehicles, foods, etc. (Not services.)       | \n",
    "| `EVENT`                              | Named hurricanes, battles, wars, sports events, etc. | \n",
    "| `WORK_OF_ART`                        | Titles of books, songs, etc.                         | \n",
    "| `LAW`                                | Named documents made into laws.                      | \n",
    "| `LANGUAGE`                           | Any named language.                                  | \n",
    "| `DATE`                               | Absolute or relative dates or periods.               | \n",
    "| `TIME`                               | Times smaller than a day.                            | \n",
    "| `PERCENT`                            |\tPercentage, including \"%\".                        |         \n",
    "| `MONEY`                              | Monetary values, including unit.                     | \n",
    "| `QUANTITY`                           | Measurements, as of weight or distance.              | \n",
    "| `ORDINAL`                            | \"first\", \"second\", etc.                              | \n",
    "| `CARDINAL`                           | Numerals that do not fall under another type.        | "
   ]
  },
  {
   "cell_type": "markdown",
   "metadata": {},
   "source": [
    "# Visualize entities\n",
    "\n",
    "## Client A"
   ]
  },
  {
   "cell_type": "code",
   "execution_count": 4,
   "metadata": {},
   "outputs": [],
   "source": [
    "def remove_whitespace_entities(doc):\n",
    "    '''simple hack:\n",
    "    empty space shall not be entities'''\n",
    "    doc.ents = [e for e in doc.ents if not e.text.isspace()]\n",
    "    return doc\n",
    "\n",
    "# create pipeline\n",
    "nlp.add_pipe(remove_whitespace_entities, after='ner')"
   ]
  },
  {
   "cell_type": "code",
   "execution_count": 5,
   "metadata": {},
   "outputs": [],
   "source": [
    "# split each memo for better notebook display\n",
    "memo_1A  = df.client_A[0]\n",
    "memo_2A =  df.client_A[1]\n",
    "memo_3A =  df.client_A[2]\n",
    "memo_4A =  df.client_A[3]\n",
    "memo_1B  = df.client_B[0]\n",
    "memo_2B =  df.client_B[1]\n",
    "memo_3B =  df.client_B[2]\n",
    "memo_4B =  df.client_B[3]\n",
    "memo_1C  = df.client_C[0]\n",
    "memo_2C =  df.client_C[1]\n",
    "memo_3C =  df.client_C[2]\n",
    "memo_4C =  df.client_C[3]"
   ]
  },
  {
   "cell_type": "markdown",
   "metadata": {},
   "source": [
    "# display entities\n",
    "- text\n",
    "- location\n",
    "- label"
   ]
  },
  {
   "cell_type": "code",
   "execution_count": 6,
   "metadata": {},
   "outputs": [
    {
     "name": "stdout",
     "output_type": "stream",
     "text": [
      "I recently caught up with Adam of Argos Group and he indicated they are actively trying to grow their\n",
      "        portfolio in the US. They have been focused in NYC, but with his recent addition to the team, are\n",
      "        looking in Chicago and on the West Coast. Their main focus continues to be high-rise office in CBDs, but\n",
      "        are also considering urban multi-housing, preferably with a value-add component.\n"
     ]
    }
   ],
   "source": [
    "print(memo_1A)"
   ]
  },
  {
   "cell_type": "code",
   "execution_count": 7,
   "metadata": {},
   "outputs": [
    {
     "data": {
      "text/html": [
       "<div>\n",
       "<style scoped>\n",
       "    .dataframe tbody tr th:only-of-type {\n",
       "        vertical-align: middle;\n",
       "    }\n",
       "\n",
       "    .dataframe tbody tr th {\n",
       "        vertical-align: top;\n",
       "    }\n",
       "\n",
       "    .dataframe thead th {\n",
       "        text-align: right;\n",
       "    }\n",
       "</style>\n",
       "<table border=\"1\" class=\"dataframe\">\n",
       "  <thead>\n",
       "    <tr style=\"text-align: right;\">\n",
       "      <th></th>\n",
       "      <th>ent_text</th>\n",
       "      <th>start_char</th>\n",
       "      <th>end_char</th>\n",
       "      <th>ent_label</th>\n",
       "    </tr>\n",
       "  </thead>\n",
       "  <tbody>\n",
       "    <tr>\n",
       "      <th>0</th>\n",
       "      <td>Adam</td>\n",
       "      <td>26</td>\n",
       "      <td>30</td>\n",
       "      <td>PERSON</td>\n",
       "    </tr>\n",
       "    <tr>\n",
       "      <th>1</th>\n",
       "      <td>Argos Group</td>\n",
       "      <td>34</td>\n",
       "      <td>45</td>\n",
       "      <td>ORG</td>\n",
       "    </tr>\n",
       "    <tr>\n",
       "      <th>2</th>\n",
       "      <td>US</td>\n",
       "      <td>127</td>\n",
       "      <td>129</td>\n",
       "      <td>GPE</td>\n",
       "    </tr>\n",
       "    <tr>\n",
       "      <th>3</th>\n",
       "      <td>NYC</td>\n",
       "      <td>157</td>\n",
       "      <td>160</td>\n",
       "      <td>LOC</td>\n",
       "    </tr>\n",
       "    <tr>\n",
       "      <th>4</th>\n",
       "      <td>Chicago</td>\n",
       "      <td>227</td>\n",
       "      <td>234</td>\n",
       "      <td>GPE</td>\n",
       "    </tr>\n",
       "    <tr>\n",
       "      <th>5</th>\n",
       "      <td>the West Coast</td>\n",
       "      <td>242</td>\n",
       "      <td>256</td>\n",
       "      <td>LOC</td>\n",
       "    </tr>\n",
       "    <tr>\n",
       "      <th>6</th>\n",
       "      <td>CBDs</td>\n",
       "      <td>311</td>\n",
       "      <td>315</td>\n",
       "      <td>DATE</td>\n",
       "    </tr>\n",
       "  </tbody>\n",
       "</table>\n",
       "</div>"
      ],
      "text/plain": [
       "         ent_text  start_char  end_char ent_label\n",
       "0            Adam          26        30    PERSON\n",
       "1     Argos Group          34        45       ORG\n",
       "2              US         127       129       GPE\n",
       "3             NYC         157       160       LOC\n",
       "4         Chicago         227       234       GPE\n",
       "5  the West Coast         242       256       LOC\n",
       "6            CBDs         311       315      DATE"
      ]
     },
     "execution_count": 7,
     "metadata": {},
     "output_type": "execute_result"
    }
   ],
   "source": [
    "doc = nlp(memo_1A)\n",
    "ent_text = [token.orth_ for token in doc.ents]\n",
    "start_char = [token.start_char for token in doc.ents]\n",
    "end_char = [token.end_char for token in doc.ents]\n",
    "ent_label = [token.label_ for token in doc.ents]\n",
    "\n",
    "pd.DataFrame(list(zip(ent_text,start_char,end_char,ent_label)),\n",
    "         columns=['ent_text','start_char','end_char','ent_label'])    "
   ]
  },
  {
   "cell_type": "markdown",
   "metadata": {},
   "source": [
    "Create function to display entities\n"
   ]
  },
  {
   "cell_type": "code",
   "execution_count": 8,
   "metadata": {},
   "outputs": [],
   "source": [
    "def report(doc):\n",
    "    '''insert spacy.token.doc\n",
    "    return dictionary with entities and values'''\n",
    "    ent_label = [token.label_ for token in doc.ents]  #  extract ent labels\n",
    "    ent_text = [token.orth_.strip() for token in doc.ents]  # extract ent text\n",
    "    #print(ent_text)  # santa check\n",
    "    ent_dict = {k:[] for k in ent_label}  # dict comprh for results\n",
    "    en_tuple = list(zip(ent_label,ent_text))\n",
    "    for k,v in en_tuple:\n",
    "        ent_dict[k].append(v)\n",
    "    return ent_dict"
   ]
  },
  {
   "cell_type": "markdown",
   "metadata": {},
   "source": [
    "## Client A : memo 1"
   ]
  },
  {
   "cell_type": "code",
   "execution_count": 9,
   "metadata": {},
   "outputs": [
    {
     "name": "stdout",
     "output_type": "stream",
     "text": [
      "I recently caught up with Adam of Argos Group and he indicated they are actively trying to grow their\n",
      "        portfolio in the US. They have been focused in NYC, but with his recent addition to the team, are\n",
      "        looking in Chicago and on the West Coast. Their main focus continues to be high-rise office in CBDs, but\n",
      "        are also considering urban multi-housing, preferably with a value-add component.\n"
     ]
    }
   ],
   "source": [
    "# raw text of memo\n",
    "print(memo_1A)"
   ]
  },
  {
   "cell_type": "code",
   "execution_count": 10,
   "metadata": {},
   "outputs": [
    {
     "data": {
      "text/html": [
       "<div class=\"entities\" style=\"line-height: 2.5\">I recently caught up with \n",
       "<mark class=\"entity\" style=\"background: #aa9cfc; padding: 0.45em 0.6em; margin: 0 0.25em; line-height: 1; border-radius: 0.35em; box-decoration-break: clone; -webkit-box-decoration-break: clone\">\n",
       "    Adam\n",
       "    <span style=\"font-size: 0.8em; font-weight: bold; line-height: 1; border-radius: 0.35em; text-transform: uppercase; vertical-align: middle; margin-left: 0.5rem\">PERSON</span>\n",
       "</mark>\n",
       " of \n",
       "<mark class=\"entity\" style=\"background: #7aecec; padding: 0.45em 0.6em; margin: 0 0.25em; line-height: 1; border-radius: 0.35em; box-decoration-break: clone; -webkit-box-decoration-break: clone\">\n",
       "    Argos Group\n",
       "    <span style=\"font-size: 0.8em; font-weight: bold; line-height: 1; border-radius: 0.35em; text-transform: uppercase; vertical-align: middle; margin-left: 0.5rem\">ORG</span>\n",
       "</mark>\n",
       " and he indicated they are actively trying to grow their</br>        portfolio in the \n",
       "<mark class=\"entity\" style=\"background: #feca74; padding: 0.45em 0.6em; margin: 0 0.25em; line-height: 1; border-radius: 0.35em; box-decoration-break: clone; -webkit-box-decoration-break: clone\">\n",
       "    US\n",
       "    <span style=\"font-size: 0.8em; font-weight: bold; line-height: 1; border-radius: 0.35em; text-transform: uppercase; vertical-align: middle; margin-left: 0.5rem\">GPE</span>\n",
       "</mark>\n",
       ". They have been focused in \n",
       "<mark class=\"entity\" style=\"background: #ff9561; padding: 0.45em 0.6em; margin: 0 0.25em; line-height: 1; border-radius: 0.35em; box-decoration-break: clone; -webkit-box-decoration-break: clone\">\n",
       "    NYC\n",
       "    <span style=\"font-size: 0.8em; font-weight: bold; line-height: 1; border-radius: 0.35em; text-transform: uppercase; vertical-align: middle; margin-left: 0.5rem\">LOC</span>\n",
       "</mark>\n",
       ", but with his recent addition to the team, are</br>        looking in \n",
       "<mark class=\"entity\" style=\"background: #feca74; padding: 0.45em 0.6em; margin: 0 0.25em; line-height: 1; border-radius: 0.35em; box-decoration-break: clone; -webkit-box-decoration-break: clone\">\n",
       "    Chicago\n",
       "    <span style=\"font-size: 0.8em; font-weight: bold; line-height: 1; border-radius: 0.35em; text-transform: uppercase; vertical-align: middle; margin-left: 0.5rem\">GPE</span>\n",
       "</mark>\n",
       " and on \n",
       "<mark class=\"entity\" style=\"background: #ff9561; padding: 0.45em 0.6em; margin: 0 0.25em; line-height: 1; border-radius: 0.35em; box-decoration-break: clone; -webkit-box-decoration-break: clone\">\n",
       "    the West Coast\n",
       "    <span style=\"font-size: 0.8em; font-weight: bold; line-height: 1; border-radius: 0.35em; text-transform: uppercase; vertical-align: middle; margin-left: 0.5rem\">LOC</span>\n",
       "</mark>\n",
       ". Their main focus continues to be high-rise office in \n",
       "<mark class=\"entity\" style=\"background: #bfe1d9; padding: 0.45em 0.6em; margin: 0 0.25em; line-height: 1; border-radius: 0.35em; box-decoration-break: clone; -webkit-box-decoration-break: clone\">\n",
       "    CBDs\n",
       "    <span style=\"font-size: 0.8em; font-weight: bold; line-height: 1; border-radius: 0.35em; text-transform: uppercase; vertical-align: middle; margin-left: 0.5rem\">DATE</span>\n",
       "</mark>\n",
       ", but\n",
       "        are also considering urban multi-housing, preferably with a value-add component.</div>"
      ],
      "text/plain": [
       "<IPython.core.display.HTML object>"
      ]
     },
     "metadata": {},
     "output_type": "display_data"
    }
   ],
   "source": [
    "# display entities\n",
    "doc = nlp(memo_1A)  # convert to spacy token text\n",
    "displacy.render(doc, jupyter=True, style='ent') # display entities"
   ]
  },
  {
   "cell_type": "code",
   "execution_count": 12,
   "metadata": {},
   "outputs": [
    {
     "data": {
      "text/html": [
       "<div class=\"entities\" style=\"line-height: 2.5\">I recently caught up with \n",
       "<mark class=\"entity\" style=\"background: #aa9cfc; padding: 0.45em 0.6em; margin: 0 0.25em; line-height: 1; border-radius: 0.35em; box-decoration-break: clone; -webkit-box-decoration-break: clone\">\n",
       "    Adam\n",
       "    <span style=\"font-size: 0.8em; font-weight: bold; line-height: 1; border-radius: 0.35em; text-transform: uppercase; vertical-align: middle; margin-left: 0.5rem\">PERSON</span>\n",
       "</mark>\n",
       " of \n",
       "<mark class=\"entity\" style=\"background: #7aecec; padding: 0.45em 0.6em; margin: 0 0.25em; line-height: 1; border-radius: 0.35em; box-decoration-break: clone; -webkit-box-decoration-break: clone\">\n",
       "    Argos Group\n",
       "    <span style=\"font-size: 0.8em; font-weight: bold; line-height: 1; border-radius: 0.35em; text-transform: uppercase; vertical-align: middle; margin-left: 0.5rem\">ORG</span>\n",
       "</mark>\n",
       " and he indicated they are actively trying to grow their</br>        portfolio in the \n",
       "<mark class=\"entity\" style=\"background: #feca74; padding: 0.45em 0.6em; margin: 0 0.25em; line-height: 1; border-radius: 0.35em; box-decoration-break: clone; -webkit-box-decoration-break: clone\">\n",
       "    US\n",
       "    <span style=\"font-size: 0.8em; font-weight: bold; line-height: 1; border-radius: 0.35em; text-transform: uppercase; vertical-align: middle; margin-left: 0.5rem\">GPE</span>\n",
       "</mark>\n",
       ". They have been focused in \n",
       "<mark class=\"entity\" style=\"background: #ff9561; padding: 0.45em 0.6em; margin: 0 0.25em; line-height: 1; border-radius: 0.35em; box-decoration-break: clone; -webkit-box-decoration-break: clone\">\n",
       "    NYC\n",
       "    <span style=\"font-size: 0.8em; font-weight: bold; line-height: 1; border-radius: 0.35em; text-transform: uppercase; vertical-align: middle; margin-left: 0.5rem\">LOC</span>\n",
       "</mark>\n",
       ", but with his recent addition to the team, are</br>        looking in \n",
       "<mark class=\"entity\" style=\"background: #feca74; padding: 0.45em 0.6em; margin: 0 0.25em; line-height: 1; border-radius: 0.35em; box-decoration-break: clone; -webkit-box-decoration-break: clone\">\n",
       "    Chicago\n",
       "    <span style=\"font-size: 0.8em; font-weight: bold; line-height: 1; border-radius: 0.35em; text-transform: uppercase; vertical-align: middle; margin-left: 0.5rem\">GPE</span>\n",
       "</mark>\n",
       " and on \n",
       "<mark class=\"entity\" style=\"background: #ff9561; padding: 0.45em 0.6em; margin: 0 0.25em; line-height: 1; border-radius: 0.35em; box-decoration-break: clone; -webkit-box-decoration-break: clone\">\n",
       "    the West Coast\n",
       "    <span style=\"font-size: 0.8em; font-weight: bold; line-height: 1; border-radius: 0.35em; text-transform: uppercase; vertical-align: middle; margin-left: 0.5rem\">LOC</span>\n",
       "</mark>\n",
       ". Their main focus continues to be high-rise office in \n",
       "<mark class=\"entity\" style=\"background: #bfe1d9; padding: 0.45em 0.6em; margin: 0 0.25em; line-height: 1; border-radius: 0.35em; box-decoration-break: clone; -webkit-box-decoration-break: clone\">\n",
       "    CBDs\n",
       "    <span style=\"font-size: 0.8em; font-weight: bold; line-height: 1; border-radius: 0.35em; text-transform: uppercase; vertical-align: middle; margin-left: 0.5rem\">DATE</span>\n",
       "</mark>\n",
       ", but\n",
       "        are also considering urban multi-housing, preferably with a value-add component.</div>"
      ],
      "text/plain": [
       "<IPython.core.display.HTML object>"
      ]
     },
     "metadata": {},
     "output_type": "display_data"
    }
   ],
   "source": [
    "\n",
    "html = displacy.render(doc, style='ent')\n",
    "display(HTML(html))"
   ]
  },
  {
   "cell_type": "code",
   "execution_count": 16,
   "metadata": {},
   "outputs": [
    {
     "data": {
      "text/html": [
       "<!DOCTYPE html>\n",
       "<html>\n",
       "    <head>\n",
       "        <title>displaCy</title>\n",
       "    </head>\n",
       "\n",
       "    <body style=\"font-size: 16px; font-family: -apple-system, BlinkMacSystemFont, 'Segoe UI', Helvetica, Arial, sans-serif, 'Apple Color Emoji', 'Segoe UI Emoji', 'Segoe UI Symbol'; padding: 4rem 2rem;\">\n",
       "<figure style=\"margin-bottom: 6rem\">\n",
       "<div class=\"entities\" style=\"line-height: 2.5\">I recently caught up with \n",
       "<mark class=\"entity\" style=\"background: #aa9cfc; padding: 0.45em 0.6em; margin: 0 0.25em; line-height: 1; border-radius: 0.35em; box-decoration-break: clone; -webkit-box-decoration-break: clone\">\n",
       "    Adam\n",
       "    <span style=\"font-size: 0.8em; font-weight: bold; line-height: 1; border-radius: 0.35em; text-transform: uppercase; vertical-align: middle; margin-left: 0.5rem\">PERSON</span>\n",
       "</mark>\n",
       " of \n",
       "<mark class=\"entity\" style=\"background: #7aecec; padding: 0.45em 0.6em; margin: 0 0.25em; line-height: 1; border-radius: 0.35em; box-decoration-break: clone; -webkit-box-decoration-break: clone\">\n",
       "    Argos Group\n",
       "    <span style=\"font-size: 0.8em; font-weight: bold; line-height: 1; border-radius: 0.35em; text-transform: uppercase; vertical-align: middle; margin-left: 0.5rem\">ORG</span>\n",
       "</mark>\n",
       " and he indicated they are actively trying to grow their</br>        portfolio in the \n",
       "<mark class=\"entity\" style=\"background: #feca74; padding: 0.45em 0.6em; margin: 0 0.25em; line-height: 1; border-radius: 0.35em; box-decoration-break: clone; -webkit-box-decoration-break: clone\">\n",
       "    US\n",
       "    <span style=\"font-size: 0.8em; font-weight: bold; line-height: 1; border-radius: 0.35em; text-transform: uppercase; vertical-align: middle; margin-left: 0.5rem\">GPE</span>\n",
       "</mark>\n",
       ". They have been focused in \n",
       "<mark class=\"entity\" style=\"background: #ff9561; padding: 0.45em 0.6em; margin: 0 0.25em; line-height: 1; border-radius: 0.35em; box-decoration-break: clone; -webkit-box-decoration-break: clone\">\n",
       "    NYC\n",
       "    <span style=\"font-size: 0.8em; font-weight: bold; line-height: 1; border-radius: 0.35em; text-transform: uppercase; vertical-align: middle; margin-left: 0.5rem\">LOC</span>\n",
       "</mark>\n",
       ", but with his recent addition to the team, are</br>        looking in \n",
       "<mark class=\"entity\" style=\"background: #feca74; padding: 0.45em 0.6em; margin: 0 0.25em; line-height: 1; border-radius: 0.35em; box-decoration-break: clone; -webkit-box-decoration-break: clone\">\n",
       "    Chicago\n",
       "    <span style=\"font-size: 0.8em; font-weight: bold; line-height: 1; border-radius: 0.35em; text-transform: uppercase; vertical-align: middle; margin-left: 0.5rem\">GPE</span>\n",
       "</mark>\n",
       " and on \n",
       "<mark class=\"entity\" style=\"background: #ff9561; padding: 0.45em 0.6em; margin: 0 0.25em; line-height: 1; border-radius: 0.35em; box-decoration-break: clone; -webkit-box-decoration-break: clone\">\n",
       "    the West Coast\n",
       "    <span style=\"font-size: 0.8em; font-weight: bold; line-height: 1; border-radius: 0.35em; text-transform: uppercase; vertical-align: middle; margin-left: 0.5rem\">LOC</span>\n",
       "</mark>\n",
       ". Their main focus continues to be high-rise office in \n",
       "<mark class=\"entity\" style=\"background: #bfe1d9; padding: 0.45em 0.6em; margin: 0 0.25em; line-height: 1; border-radius: 0.35em; box-decoration-break: clone; -webkit-box-decoration-break: clone\">\n",
       "    CBDs\n",
       "    <span style=\"font-size: 0.8em; font-weight: bold; line-height: 1; border-radius: 0.35em; text-transform: uppercase; vertical-align: middle; margin-left: 0.5rem\">DATE</span>\n",
       "</mark>\n",
       ", but\n",
       "        are also considering urban multi-housing, preferably with a value-add component.</div>\n",
       "</figure>\n",
       "</body>\n",
       "</html>"
      ],
      "text/plain": [
       "<IPython.core.display.HTML object>"
      ]
     },
     "metadata": {},
     "output_type": "display_data"
    }
   ],
   "source": [
    "html = displacy.render(doc, style='ent',page=True)\n",
    "display(HTML(html))"
   ]
  },
  {
   "cell_type": "code",
   "execution_count": 17,
   "metadata": {},
   "outputs": [
    {
     "data": {
      "text/plain": [
       "{'PERSON': ['Adam'],\n",
       " 'ORG': ['Argos Group'],\n",
       " 'GPE': ['US', 'Chicago'],\n",
       " 'LOC': ['NYC', 'the West Coast'],\n",
       " 'DATE': ['CBDs']}"
      ]
     },
     "execution_count": 17,
     "metadata": {},
     "output_type": "execute_result"
    }
   ],
   "source": [
    "report(doc)  # function to extract entities from text"
   ]
  },
  {
   "cell_type": "markdown",
   "metadata": {},
   "source": [
    "### Client A: memo 2"
   ]
  },
  {
   "cell_type": "code",
   "execution_count": 18,
   "metadata": {},
   "outputs": [
    {
     "name": "stdout",
     "output_type": "stream",
     "text": [
      "I will be based in New York, mainly tasked with sourcing equity and debt investments in high-profile\n",
      "        real estate assets in gateway markets with equity ticket $30M and up. My team and I will also look for JV\n",
      "        and M&A opportunities of established real estate companies and platforms.\n"
     ]
    }
   ],
   "source": [
    "print(memo_2A)"
   ]
  },
  {
   "cell_type": "code",
   "execution_count": 19,
   "metadata": {},
   "outputs": [
    {
     "data": {
      "text/html": [
       "<div class=\"entities\" style=\"line-height: 2.5\">I will be based in \n",
       "<mark class=\"entity\" style=\"background: #feca74; padding: 0.45em 0.6em; margin: 0 0.25em; line-height: 1; border-radius: 0.35em; box-decoration-break: clone; -webkit-box-decoration-break: clone\">\n",
       "    New York\n",
       "    <span style=\"font-size: 0.8em; font-weight: bold; line-height: 1; border-radius: 0.35em; text-transform: uppercase; vertical-align: middle; margin-left: 0.5rem\">GPE</span>\n",
       "</mark>\n",
       ", mainly tasked with sourcing equity and debt investments in high-profile</br>        real estate assets in gateway markets with equity ticket \n",
       "<mark class=\"entity\" style=\"background: #e4e7d2; padding: 0.45em 0.6em; margin: 0 0.25em; line-height: 1; border-radius: 0.35em; box-decoration-break: clone; -webkit-box-decoration-break: clone\">\n",
       "    $30\n",
       "    <span style=\"font-size: 0.8em; font-weight: bold; line-height: 1; border-radius: 0.35em; text-transform: uppercase; vertical-align: middle; margin-left: 0.5rem\">MONEY</span>\n",
       "</mark>\n",
       "M and up. My team and I will also look for \n",
       "<mark class=\"entity\" style=\"background: #7aecec; padding: 0.45em 0.6em; margin: 0 0.25em; line-height: 1; border-radius: 0.35em; box-decoration-break: clone; -webkit-box-decoration-break: clone\">\n",
       "    JV\n",
       "    <span style=\"font-size: 0.8em; font-weight: bold; line-height: 1; border-radius: 0.35em; text-transform: uppercase; vertical-align: middle; margin-left: 0.5rem\">ORG</span>\n",
       "</mark>\n",
       "\n",
       "        and M&A opportunities of established real estate companies and platforms.</div>"
      ],
      "text/plain": [
       "<IPython.core.display.HTML object>"
      ]
     },
     "metadata": {},
     "output_type": "display_data"
    }
   ],
   "source": [
    "# display entities\n",
    "doc = nlp(memo_2A)  # convert to spacy token text\n",
    "displacy.render(doc, jupyter=True, style='ent') # display entities"
   ]
  },
  {
   "cell_type": "code",
   "execution_count": 20,
   "metadata": {},
   "outputs": [
    {
     "name": "stdout",
     "output_type": "stream",
     "text": [
      "{'GPE': ['New York'], 'MONEY': ['$30'], 'ORG': ['JV']}\n"
     ]
    }
   ],
   "source": [
    "print(report(doc))"
   ]
  },
  {
   "cell_type": "markdown",
   "metadata": {},
   "source": [
    "## Client A memo 3"
   ]
  },
  {
   "cell_type": "code",
   "execution_count": 21,
   "metadata": {},
   "outputs": [
    {
     "name": "stdout",
     "output_type": "stream",
     "text": [
      "They intend to add a large subterranean retail complex as well as reposition the building after the\n",
      "        major tenant moves out in 2 years. For the most part they are value-add to opportunistic driven. They\n",
      "        are focused on the following markets: NYC, Boston, DC, Chicago, SF, and LA. They will look at office, MH,\n",
      "        and retail. They are solving to mid-teen returns and they have no max or min on their investment size.\n"
     ]
    }
   ],
   "source": [
    "print(memo_3A)"
   ]
  },
  {
   "cell_type": "code",
   "execution_count": 22,
   "metadata": {},
   "outputs": [
    {
     "data": {
      "text/html": [
       "<div class=\"entities\" style=\"line-height: 2.5\">They intend to add a large subterranean retail complex as well as reposition the building after the</br>        major tenant moves out in \n",
       "<mark class=\"entity\" style=\"background: #bfe1d9; padding: 0.45em 0.6em; margin: 0 0.25em; line-height: 1; border-radius: 0.35em; box-decoration-break: clone; -webkit-box-decoration-break: clone\">\n",
       "    2 years\n",
       "    <span style=\"font-size: 0.8em; font-weight: bold; line-height: 1; border-radius: 0.35em; text-transform: uppercase; vertical-align: middle; margin-left: 0.5rem\">DATE</span>\n",
       "</mark>\n",
       ". For the most part they are value-add to opportunistic driven. They</br>        are focused on the following markets: \n",
       "<mark class=\"entity\" style=\"background: #feca74; padding: 0.45em 0.6em; margin: 0 0.25em; line-height: 1; border-radius: 0.35em; box-decoration-break: clone; -webkit-box-decoration-break: clone\">\n",
       "    NYC\n",
       "    <span style=\"font-size: 0.8em; font-weight: bold; line-height: 1; border-radius: 0.35em; text-transform: uppercase; vertical-align: middle; margin-left: 0.5rem\">GPE</span>\n",
       "</mark>\n",
       ", \n",
       "<mark class=\"entity\" style=\"background: #feca74; padding: 0.45em 0.6em; margin: 0 0.25em; line-height: 1; border-radius: 0.35em; box-decoration-break: clone; -webkit-box-decoration-break: clone\">\n",
       "    Boston\n",
       "    <span style=\"font-size: 0.8em; font-weight: bold; line-height: 1; border-radius: 0.35em; text-transform: uppercase; vertical-align: middle; margin-left: 0.5rem\">GPE</span>\n",
       "</mark>\n",
       ", \n",
       "<mark class=\"entity\" style=\"background: #feca74; padding: 0.45em 0.6em; margin: 0 0.25em; line-height: 1; border-radius: 0.35em; box-decoration-break: clone; -webkit-box-decoration-break: clone\">\n",
       "    DC\n",
       "    <span style=\"font-size: 0.8em; font-weight: bold; line-height: 1; border-radius: 0.35em; text-transform: uppercase; vertical-align: middle; margin-left: 0.5rem\">GPE</span>\n",
       "</mark>\n",
       ", \n",
       "<mark class=\"entity\" style=\"background: #feca74; padding: 0.45em 0.6em; margin: 0 0.25em; line-height: 1; border-radius: 0.35em; box-decoration-break: clone; -webkit-box-decoration-break: clone\">\n",
       "    Chicago\n",
       "    <span style=\"font-size: 0.8em; font-weight: bold; line-height: 1; border-radius: 0.35em; text-transform: uppercase; vertical-align: middle; margin-left: 0.5rem\">GPE</span>\n",
       "</mark>\n",
       ", \n",
       "<mark class=\"entity\" style=\"background: #feca74; padding: 0.45em 0.6em; margin: 0 0.25em; line-height: 1; border-radius: 0.35em; box-decoration-break: clone; -webkit-box-decoration-break: clone\">\n",
       "    SF\n",
       "    <span style=\"font-size: 0.8em; font-weight: bold; line-height: 1; border-radius: 0.35em; text-transform: uppercase; vertical-align: middle; margin-left: 0.5rem\">GPE</span>\n",
       "</mark>\n",
       ", and \n",
       "<mark class=\"entity\" style=\"background: #feca74; padding: 0.45em 0.6em; margin: 0 0.25em; line-height: 1; border-radius: 0.35em; box-decoration-break: clone; -webkit-box-decoration-break: clone\">\n",
       "    LA\n",
       "    <span style=\"font-size: 0.8em; font-weight: bold; line-height: 1; border-radius: 0.35em; text-transform: uppercase; vertical-align: middle; margin-left: 0.5rem\">GPE</span>\n",
       "</mark>\n",
       ". They will look at office, \n",
       "<mark class=\"entity\" style=\"background: #7aecec; padding: 0.45em 0.6em; margin: 0 0.25em; line-height: 1; border-radius: 0.35em; box-decoration-break: clone; -webkit-box-decoration-break: clone\">\n",
       "    MH\n",
       "    <span style=\"font-size: 0.8em; font-weight: bold; line-height: 1; border-radius: 0.35em; text-transform: uppercase; vertical-align: middle; margin-left: 0.5rem\">ORG</span>\n",
       "</mark>\n",
       ",\n",
       "        and retail. They are solving to mid-teen returns and they have no max or min on their investment size.</div>"
      ],
      "text/plain": [
       "<IPython.core.display.HTML object>"
      ]
     },
     "metadata": {},
     "output_type": "display_data"
    }
   ],
   "source": [
    "# display entities\n",
    "doc = nlp(memo_3A)  # convert to spacy token text\n",
    "displacy.render(doc, jupyter=True, style='ent') # display entities"
   ]
  },
  {
   "cell_type": "code",
   "execution_count": 23,
   "metadata": {},
   "outputs": [
    {
     "data": {
      "text/plain": [
       "{'DATE': ['2 years'],\n",
       " 'GPE': ['NYC', 'Boston', 'DC', 'Chicago', 'SF', 'LA'],\n",
       " 'ORG': ['MH']}"
      ]
     },
     "execution_count": 23,
     "metadata": {},
     "output_type": "execute_result"
    }
   ],
   "source": [
    "report(doc)"
   ]
  },
  {
   "cell_type": "markdown",
   "metadata": {},
   "source": [
    "## Client memo 4"
   ]
  },
  {
   "cell_type": "code",
   "execution_count": 24,
   "metadata": {},
   "outputs": [
    {
     "name": "stdout",
     "output_type": "stream",
     "text": [
      "They are seeking large office/residential/retail deals in the Tri-State region. Looking for low teen return\n",
      "        profile and 100% ownership (no operating partners). Typically looking for long term value and can\n",
      "        handle temporary non cash flowing periods to help generate value. Currently not using much, if any,\n",
      "        leverage on their deals. Global portfolio is 70mm SF, US portfolio is two NYC assets (room to grow).\n"
     ]
    }
   ],
   "source": [
    "print(memo_4A)"
   ]
  },
  {
   "cell_type": "code",
   "execution_count": 25,
   "metadata": {},
   "outputs": [
    {
     "data": {
      "text/html": [
       "<div class=\"entities\" style=\"line-height: 2.5\">They are seeking large office/residential/retail deals in the Tri-State region. Looking for low teen return</br>        profile and \n",
       "<mark class=\"entity\" style=\"background: #e4e7d2; padding: 0.45em 0.6em; margin: 0 0.25em; line-height: 1; border-radius: 0.35em; box-decoration-break: clone; -webkit-box-decoration-break: clone\">\n",
       "    100%\n",
       "    <span style=\"font-size: 0.8em; font-weight: bold; line-height: 1; border-radius: 0.35em; text-transform: uppercase; vertical-align: middle; margin-left: 0.5rem\">PERCENT</span>\n",
       "</mark>\n",
       " ownership (no operating partners). Typically looking for long term value and can</br>        handle temporary non cash flowing periods to help generate value. Currently not using much, if any,</br>        leverage on their deals. Global portfolio is \n",
       "<mark class=\"entity\" style=\"background: #e4e7d2; padding: 0.45em 0.6em; margin: 0 0.25em; line-height: 1; border-radius: 0.35em; box-decoration-break: clone; -webkit-box-decoration-break: clone\">\n",
       "    70\n",
       "    <span style=\"font-size: 0.8em; font-weight: bold; line-height: 1; border-radius: 0.35em; text-transform: uppercase; vertical-align: middle; margin-left: 0.5rem\">CARDINAL</span>\n",
       "</mark>\n",
       "mm \n",
       "<mark class=\"entity\" style=\"background: #feca74; padding: 0.45em 0.6em; margin: 0 0.25em; line-height: 1; border-radius: 0.35em; box-decoration-break: clone; -webkit-box-decoration-break: clone\">\n",
       "    SF\n",
       "    <span style=\"font-size: 0.8em; font-weight: bold; line-height: 1; border-radius: 0.35em; text-transform: uppercase; vertical-align: middle; margin-left: 0.5rem\">GPE</span>\n",
       "</mark>\n",
       ", \n",
       "<mark class=\"entity\" style=\"background: #feca74; padding: 0.45em 0.6em; margin: 0 0.25em; line-height: 1; border-radius: 0.35em; box-decoration-break: clone; -webkit-box-decoration-break: clone\">\n",
       "    US\n",
       "    <span style=\"font-size: 0.8em; font-weight: bold; line-height: 1; border-radius: 0.35em; text-transform: uppercase; vertical-align: middle; margin-left: 0.5rem\">GPE</span>\n",
       "</mark>\n",
       " portfolio is \n",
       "<mark class=\"entity\" style=\"background: #e4e7d2; padding: 0.45em 0.6em; margin: 0 0.25em; line-height: 1; border-radius: 0.35em; box-decoration-break: clone; -webkit-box-decoration-break: clone\">\n",
       "    two\n",
       "    <span style=\"font-size: 0.8em; font-weight: bold; line-height: 1; border-radius: 0.35em; text-transform: uppercase; vertical-align: middle; margin-left: 0.5rem\">CARDINAL</span>\n",
       "</mark>\n",
       " \n",
       "<mark class=\"entity\" style=\"background: #ff9561; padding: 0.45em 0.6em; margin: 0 0.25em; line-height: 1; border-radius: 0.35em; box-decoration-break: clone; -webkit-box-decoration-break: clone\">\n",
       "    NYC\n",
       "    <span style=\"font-size: 0.8em; font-weight: bold; line-height: 1; border-radius: 0.35em; text-transform: uppercase; vertical-align: middle; margin-left: 0.5rem\">LOC</span>\n",
       "</mark>\n",
       " assets (room to grow).</div>"
      ],
      "text/plain": [
       "<IPython.core.display.HTML object>"
      ]
     },
     "metadata": {},
     "output_type": "display_data"
    }
   ],
   "source": [
    "# display entities\n",
    "doc = nlp(memo_4A)  # convert to spacy token text\n",
    "displacy.render(doc, jupyter=True, style='ent') # display entities"
   ]
  },
  {
   "cell_type": "code",
   "execution_count": 26,
   "metadata": {},
   "outputs": [
    {
     "data": {
      "text/plain": [
       "{'PERCENT': ['100%'],\n",
       " 'CARDINAL': ['70', 'two'],\n",
       " 'GPE': ['SF', 'US'],\n",
       " 'LOC': ['NYC']}"
      ]
     },
     "execution_count": 26,
     "metadata": {},
     "output_type": "execute_result"
    }
   ],
   "source": [
    "report(doc)"
   ]
  },
  {
   "cell_type": "markdown",
   "metadata": {},
   "source": [
    "---\n",
    "# <center> Results </center>\n",
    "## Client A\n",
    "### `memo 1`\n",
    "- `CBD`: (Central Buisness District) mislabeled as date\n",
    "- `multi-housing` *type* needs entity\n",
    "- domain specific words need explination\n",
    "    - `value-add`\n",
    "    - `high-rise`\n",
    "    \n",
    "### `memo 2`\n",
    "- `JV`: Join Venture needs entity\n",
    "- `M&A`: Mergers and acquisitions completely ignored\n",
    "\n",
    "### `Memo 3'\n",
    "Needs clarification\n",
    "- `value-add`\n",
    "- mid-teens\n",
    "- MH: Multi-Housing?\n",
    "\n",
    "### `Memo 4`\n",
    "- `70mm` mislabeled as numer not as `MONEY`\n",
    "- `Tri-State`: could be `LOC`\n",
    "- `office/residential/retail`: needs expansion, then entity label"
   ]
  },
  {
   "cell_type": "code",
   "execution_count": null,
   "metadata": {},
   "outputs": [],
   "source": []
  },
  {
   "cell_type": "markdown",
   "metadata": {},
   "source": [
    "---\n",
    "# Client B\n",
    "- memo 1\n",
    "- memo 2\n",
    "- memo 3\n",
    "- memo 4"
   ]
  },
  {
   "cell_type": "code",
   "execution_count": 27,
   "metadata": {},
   "outputs": [
    {
     "name": "stdout",
     "output_type": "stream",
     "text": [
      "TEXT:memo_1\n",
      "---------------------------------------------------\n",
      "Retail Property Overview \n",
      "        * Target investments are dominant centres that need work / capital improvements\n",
      "        * Really like outlet malls\n",
      "        * Own and like Paris high street\n",
      "---------------------------------------------------\n",
      "NER:memo_1\n",
      "\n"
     ]
    },
    {
     "data": {
      "text/html": [
       "<div class=\"entities\" style=\"line-height: 2.5\">\n",
       "<mark class=\"entity\" style=\"background: #7aecec; padding: 0.45em 0.6em; margin: 0 0.25em; line-height: 1; border-radius: 0.35em; box-decoration-break: clone; -webkit-box-decoration-break: clone\">\n",
       "    Retail Property Overview          \n",
       "    <span style=\"font-size: 0.8em; font-weight: bold; line-height: 1; border-radius: 0.35em; text-transform: uppercase; vertical-align: middle; margin-left: 0.5rem\">ORG</span>\n",
       "</mark>\n",
       "* \n",
       "<mark class=\"entity\" style=\"background: #7aecec; padding: 0.45em 0.6em; margin: 0 0.25em; line-height: 1; border-radius: 0.35em; box-decoration-break: clone; -webkit-box-decoration-break: clone\">\n",
       "    Target\n",
       "    <span style=\"font-size: 0.8em; font-weight: bold; line-height: 1; border-radius: 0.35em; text-transform: uppercase; vertical-align: middle; margin-left: 0.5rem\">ORG</span>\n",
       "</mark>\n",
       " investments are dominant centres that need work / capital improvements         * Really like outlet malls         * Own and like \n",
       "<mark class=\"entity\" style=\"background: #feca74; padding: 0.45em 0.6em; margin: 0 0.25em; line-height: 1; border-radius: 0.35em; box-decoration-break: clone; -webkit-box-decoration-break: clone\">\n",
       "    Paris\n",
       "    <span style=\"font-size: 0.8em; font-weight: bold; line-height: 1; border-radius: 0.35em; text-transform: uppercase; vertical-align: middle; margin-left: 0.5rem\">GPE</span>\n",
       "</mark>\n",
       " high street</div>"
      ],
      "text/plain": [
       "<IPython.core.display.HTML object>"
      ]
     },
     "metadata": {},
     "output_type": "display_data"
    },
    {
     "name": "stdout",
     "output_type": "stream",
     "text": [
      "---------------------------------------------------\n",
      "RESULTS:memo_1\n",
      "\n",
      "{'GPE': ['Paris'], 'ORG': ['Retail Property Overview', 'Target']}\n",
      "\n",
      "\n",
      "TEXT:memo_2\n",
      "---------------------------------------------------\n",
      "Industrial Property Overview\n",
      "        Blue Industries’s non-traded REIT is currently deploying $500 million/month into multifamily and industrial assets,\n",
      "        with a focus on assets producing an immediate, steady cash flow with low cost basis.\n",
      "        \n",
      "        Typical parameters for the non-traded REIT are as follows:\n",
      "        * B, B+ market (Atlanta, Baltimore, Phoenix)\n",
      "        * Prefer to enter a secondary market and use higher leverage\n",
      "        * 10-11% IRR with 60% leverage\n",
      "        * 7% cash-on-cash returns\n",
      "        * 5% net return\n",
      "        \n",
      "        Given Blue Industries’s current appetite for industrial product, they are open to a wide range of equity checks\n",
      "        across primary and secondary markets, and programmatic ventures with proven operators and\n",
      "        developers.\n",
      "        \n",
      "        Blue Industries’s opportunistic fund are far less active right now given the current pricing environment. Return\n",
      "        metrics in these funds are hard to hit with cost basis where it is for industrial.\n",
      "---------------------------------------------------\n",
      "NER:memo_2\n",
      "\n"
     ]
    },
    {
     "data": {
      "text/html": [
       "<div class=\"entities\" style=\"line-height: 2.5\">\n",
       "<mark class=\"entity\" style=\"background: #7aecec; padding: 0.45em 0.6em; margin: 0 0.25em; line-height: 1; border-radius: 0.35em; box-decoration-break: clone; -webkit-box-decoration-break: clone\">\n",
       "    Industrial Property Overview         Blue Industries’s\n",
       "    <span style=\"font-size: 0.8em; font-weight: bold; line-height: 1; border-radius: 0.35em; text-transform: uppercase; vertical-align: middle; margin-left: 0.5rem\">ORG</span>\n",
       "</mark>\n",
       " non-traded \n",
       "<mark class=\"entity\" style=\"background: #7aecec; padding: 0.45em 0.6em; margin: 0 0.25em; line-height: 1; border-radius: 0.35em; box-decoration-break: clone; -webkit-box-decoration-break: clone\">\n",
       "    REIT\n",
       "    <span style=\"font-size: 0.8em; font-weight: bold; line-height: 1; border-radius: 0.35em; text-transform: uppercase; vertical-align: middle; margin-left: 0.5rem\">ORG</span>\n",
       "</mark>\n",
       " is currently deploying \n",
       "<mark class=\"entity\" style=\"background: #e4e7d2; padding: 0.45em 0.6em; margin: 0 0.25em; line-height: 1; border-radius: 0.35em; box-decoration-break: clone; -webkit-box-decoration-break: clone\">\n",
       "    $500 million\n",
       "    <span style=\"font-size: 0.8em; font-weight: bold; line-height: 1; border-radius: 0.35em; text-transform: uppercase; vertical-align: middle; margin-left: 0.5rem\">MONEY</span>\n",
       "</mark>\n",
       "\n",
       "<mark class=\"entity\" style=\"background: #bfe1d9; padding: 0.45em 0.6em; margin: 0 0.25em; line-height: 1; border-radius: 0.35em; box-decoration-break: clone; -webkit-box-decoration-break: clone\">\n",
       "    /month\n",
       "    <span style=\"font-size: 0.8em; font-weight: bold; line-height: 1; border-radius: 0.35em; text-transform: uppercase; vertical-align: middle; margin-left: 0.5rem\">DATE</span>\n",
       "</mark>\n",
       " into multifamily and industrial assets,         with a focus on assets producing an immediate, steady cash flow with low cost basis.                  Typical parameters for the non-traded \n",
       "<mark class=\"entity\" style=\"background: #7aecec; padding: 0.45em 0.6em; margin: 0 0.25em; line-height: 1; border-radius: 0.35em; box-decoration-break: clone; -webkit-box-decoration-break: clone\">\n",
       "    REIT\n",
       "    <span style=\"font-size: 0.8em; font-weight: bold; line-height: 1; border-radius: 0.35em; text-transform: uppercase; vertical-align: middle; margin-left: 0.5rem\">ORG</span>\n",
       "</mark>\n",
       " are as follows:         * B, \n",
       "<mark class=\"entity\" style=\"background: #aa9cfc; padding: 0.45em 0.6em; margin: 0 0.25em; line-height: 1; border-radius: 0.35em; box-decoration-break: clone; -webkit-box-decoration-break: clone\">\n",
       "    B+\n",
       "    <span style=\"font-size: 0.8em; font-weight: bold; line-height: 1; border-radius: 0.35em; text-transform: uppercase; vertical-align: middle; margin-left: 0.5rem\">PERSON</span>\n",
       "</mark>\n",
       " market (\n",
       "<mark class=\"entity\" style=\"background: #feca74; padding: 0.45em 0.6em; margin: 0 0.25em; line-height: 1; border-radius: 0.35em; box-decoration-break: clone; -webkit-box-decoration-break: clone\">\n",
       "    Atlanta\n",
       "    <span style=\"font-size: 0.8em; font-weight: bold; line-height: 1; border-radius: 0.35em; text-transform: uppercase; vertical-align: middle; margin-left: 0.5rem\">GPE</span>\n",
       "</mark>\n",
       ", \n",
       "<mark class=\"entity\" style=\"background: #feca74; padding: 0.45em 0.6em; margin: 0 0.25em; line-height: 1; border-radius: 0.35em; box-decoration-break: clone; -webkit-box-decoration-break: clone\">\n",
       "    Baltimore\n",
       "    <span style=\"font-size: 0.8em; font-weight: bold; line-height: 1; border-radius: 0.35em; text-transform: uppercase; vertical-align: middle; margin-left: 0.5rem\">GPE</span>\n",
       "</mark>\n",
       ", \n",
       "<mark class=\"entity\" style=\"background: #feca74; padding: 0.45em 0.6em; margin: 0 0.25em; line-height: 1; border-radius: 0.35em; box-decoration-break: clone; -webkit-box-decoration-break: clone\">\n",
       "    Phoenix\n",
       "    <span style=\"font-size: 0.8em; font-weight: bold; line-height: 1; border-radius: 0.35em; text-transform: uppercase; vertical-align: middle; margin-left: 0.5rem\">GPE</span>\n",
       "</mark>\n",
       ")         * Prefer to enter a secondary market and use higher leverage         * \n",
       "<mark class=\"entity\" style=\"background: #e4e7d2; padding: 0.45em 0.6em; margin: 0 0.25em; line-height: 1; border-radius: 0.35em; box-decoration-break: clone; -webkit-box-decoration-break: clone\">\n",
       "    10-11%\n",
       "    <span style=\"font-size: 0.8em; font-weight: bold; line-height: 1; border-radius: 0.35em; text-transform: uppercase; vertical-align: middle; margin-left: 0.5rem\">PERCENT</span>\n",
       "</mark>\n",
       " IRR with \n",
       "<mark class=\"entity\" style=\"background: #e4e7d2; padding: 0.45em 0.6em; margin: 0 0.25em; line-height: 1; border-radius: 0.35em; box-decoration-break: clone; -webkit-box-decoration-break: clone\">\n",
       "    60%\n",
       "    <span style=\"font-size: 0.8em; font-weight: bold; line-height: 1; border-radius: 0.35em; text-transform: uppercase; vertical-align: middle; margin-left: 0.5rem\">PERCENT</span>\n",
       "</mark>\n",
       " leverage         * \n",
       "<mark class=\"entity\" style=\"background: #e4e7d2; padding: 0.45em 0.6em; margin: 0 0.25em; line-height: 1; border-radius: 0.35em; box-decoration-break: clone; -webkit-box-decoration-break: clone\">\n",
       "    7%\n",
       "    <span style=\"font-size: 0.8em; font-weight: bold; line-height: 1; border-radius: 0.35em; text-transform: uppercase; vertical-align: middle; margin-left: 0.5rem\">PERCENT</span>\n",
       "</mark>\n",
       " cash-on-cash returns         * \n",
       "<mark class=\"entity\" style=\"background: #e4e7d2; padding: 0.45em 0.6em; margin: 0 0.25em; line-height: 1; border-radius: 0.35em; box-decoration-break: clone; -webkit-box-decoration-break: clone\">\n",
       "    5%\n",
       "    <span style=\"font-size: 0.8em; font-weight: bold; line-height: 1; border-radius: 0.35em; text-transform: uppercase; vertical-align: middle; margin-left: 0.5rem\">PERCENT</span>\n",
       "</mark>\n",
       " net return                  Given \n",
       "<mark class=\"entity\" style=\"background: #7aecec; padding: 0.45em 0.6em; margin: 0 0.25em; line-height: 1; border-radius: 0.35em; box-decoration-break: clone; -webkit-box-decoration-break: clone\">\n",
       "    Blue Industries’s\n",
       "    <span style=\"font-size: 0.8em; font-weight: bold; line-height: 1; border-radius: 0.35em; text-transform: uppercase; vertical-align: middle; margin-left: 0.5rem\">ORG</span>\n",
       "</mark>\n",
       " current appetite for industrial product, they are open to a wide range of equity checks         across primary and secondary markets, and programmatic ventures with proven operators and         developers.                  \n",
       "<mark class=\"entity\" style=\"background: #7aecec; padding: 0.45em 0.6em; margin: 0 0.25em; line-height: 1; border-radius: 0.35em; box-decoration-break: clone; -webkit-box-decoration-break: clone\">\n",
       "    Blue Industries’s\n",
       "    <span style=\"font-size: 0.8em; font-weight: bold; line-height: 1; border-radius: 0.35em; text-transform: uppercase; vertical-align: middle; margin-left: 0.5rem\">ORG</span>\n",
       "</mark>\n",
       " opportunistic fund are far less active right now given the current pricing environment. \n",
       "<mark class=\"entity\" style=\"background: #aa9cfc; padding: 0.45em 0.6em; margin: 0 0.25em; line-height: 1; border-radius: 0.35em; box-decoration-break: clone; -webkit-box-decoration-break: clone\">\n",
       "    Return         \n",
       "    <span style=\"font-size: 0.8em; font-weight: bold; line-height: 1; border-radius: 0.35em; text-transform: uppercase; vertical-align: middle; margin-left: 0.5rem\">PERSON</span>\n",
       "</mark>\n",
       "metrics in these funds are hard to hit with cost basis where it is for industrial.</div>"
      ],
      "text/plain": [
       "<IPython.core.display.HTML object>"
      ]
     },
     "metadata": {},
     "output_type": "display_data"
    },
    {
     "name": "stdout",
     "output_type": "stream",
     "text": [
      "---------------------------------------------------\n",
      "RESULTS:memo_2\n",
      "\n",
      "{'DATE': ['/month'],\n",
      " 'GPE': ['Atlanta', 'Baltimore', 'Phoenix'],\n",
      " 'MONEY': ['$500 million'],\n",
      " 'ORG': ['Industrial Property Overview         Blue Industries’s',\n",
      "         'REIT',\n",
      "         'REIT',\n",
      "         'Blue Industries’s',\n",
      "         'Blue Industries’s'],\n",
      " 'PERCENT': ['10-11%', '60%', '7%', '5%'],\n",
      " 'PERSON': ['B+', 'Return']}\n",
      "\n",
      "\n",
      "TEXT:memo_3\n",
      "---------------------------------------------------\n",
      "Multi-Family Property Overview\n",
      "        * Locations: looking everywhere in the US, but less active in the middle of the country. Avoid\n",
      "        tertiary markets and low class property types\n",
      "        * Very deep appetite for MF - $5.5B in MF last year. More stable and more downside protection\n",
      "        * 3 Funds\n",
      "            * Fund #1\n",
      "                * Class B, suburban garden, 80-90’s vintage\n",
      "                * High growth markets\n",
      "                * Deal size: $250M+\n",
      "            * Fund #2  Core-plus vehicle\n",
      "                * Lower on the rick threshold, capped at 50%\n",
      "                * Institutional quality in gateway markets\n",
      "                * Completed two recaps in Seattle\n",
      "                * Deal size: $250M\n",
      "        * Fund #3\n",
      "        * Invests heavily in MF\n",
      "        * 7-8% cash on cash\n",
      "        * Looking for $100M+ deals\n",
      "        * Very flexible\n",
      "---------------------------------------------------\n",
      "NER:memo_3\n",
      "\n"
     ]
    },
    {
     "data": {
      "text/html": [
       "<div class=\"entities\" style=\"line-height: 2.5\">\n",
       "<mark class=\"entity\" style=\"background: #7aecec; padding: 0.45em 0.6em; margin: 0 0.25em; line-height: 1; border-radius: 0.35em; box-decoration-break: clone; -webkit-box-decoration-break: clone\">\n",
       "    Multi-Family Property Overview\n",
       "    <span style=\"font-size: 0.8em; font-weight: bold; line-height: 1; border-radius: 0.35em; text-transform: uppercase; vertical-align: middle; margin-left: 0.5rem\">ORG</span>\n",
       "</mark>\n",
       "         * Locations: looking everywhere in the \n",
       "<mark class=\"entity\" style=\"background: #feca74; padding: 0.45em 0.6em; margin: 0 0.25em; line-height: 1; border-radius: 0.35em; box-decoration-break: clone; -webkit-box-decoration-break: clone\">\n",
       "    US\n",
       "    <span style=\"font-size: 0.8em; font-weight: bold; line-height: 1; border-radius: 0.35em; text-transform: uppercase; vertical-align: middle; margin-left: 0.5rem\">GPE</span>\n",
       "</mark>\n",
       ", but less active in the middle of the country. \n",
       "<mark class=\"entity\" style=\"background: #aa9cfc; padding: 0.45em 0.6em; margin: 0 0.25em; line-height: 1; border-radius: 0.35em; box-decoration-break: clone; -webkit-box-decoration-break: clone\">\n",
       "    Avoid         \n",
       "    <span style=\"font-size: 0.8em; font-weight: bold; line-height: 1; border-radius: 0.35em; text-transform: uppercase; vertical-align: middle; margin-left: 0.5rem\">PERSON</span>\n",
       "</mark>\n",
       "\n",
       "<mark class=\"entity\" style=\"background: #e4e7d2; padding: 0.45em 0.6em; margin: 0 0.25em; line-height: 1; border-radius: 0.35em; box-decoration-break: clone; -webkit-box-decoration-break: clone\">\n",
       "    tertiary\n",
       "    <span style=\"font-size: 0.8em; font-weight: bold; line-height: 1; border-radius: 0.35em; text-transform: uppercase; vertical-align: middle; margin-left: 0.5rem\">ORDINAL</span>\n",
       "</mark>\n",
       " markets and low class property types         * Very deep appetite for \n",
       "<mark class=\"entity\" style=\"background: #7aecec; padding: 0.45em 0.6em; margin: 0 0.25em; line-height: 1; border-radius: 0.35em; box-decoration-break: clone; -webkit-box-decoration-break: clone\">\n",
       "    MF - $5.5B\n",
       "    <span style=\"font-size: 0.8em; font-weight: bold; line-height: 1; border-radius: 0.35em; text-transform: uppercase; vertical-align: middle; margin-left: 0.5rem\">ORG</span>\n",
       "</mark>\n",
       " in \n",
       "<mark class=\"entity\" style=\"background: #7aecec; padding: 0.45em 0.6em; margin: 0 0.25em; line-height: 1; border-radius: 0.35em; box-decoration-break: clone; -webkit-box-decoration-break: clone\">\n",
       "    MF\n",
       "    <span style=\"font-size: 0.8em; font-weight: bold; line-height: 1; border-radius: 0.35em; text-transform: uppercase; vertical-align: middle; margin-left: 0.5rem\">ORG</span>\n",
       "</mark>\n",
       " \n",
       "<mark class=\"entity\" style=\"background: #bfe1d9; padding: 0.45em 0.6em; margin: 0 0.25em; line-height: 1; border-radius: 0.35em; box-decoration-break: clone; -webkit-box-decoration-break: clone\">\n",
       "    last year\n",
       "    <span style=\"font-size: 0.8em; font-weight: bold; line-height: 1; border-radius: 0.35em; text-transform: uppercase; vertical-align: middle; margin-left: 0.5rem\">DATE</span>\n",
       "</mark>\n",
       ". More stable and more downside protection         * \n",
       "<mark class=\"entity\" style=\"background: #e4e7d2; padding: 0.45em 0.6em; margin: 0 0.25em; line-height: 1; border-radius: 0.35em; box-decoration-break: clone; -webkit-box-decoration-break: clone\">\n",
       "    3\n",
       "    <span style=\"font-size: 0.8em; font-weight: bold; line-height: 1; border-radius: 0.35em; text-transform: uppercase; vertical-align: middle; margin-left: 0.5rem\">CARDINAL</span>\n",
       "</mark>\n",
       " Funds             * Fund #1                 * Class B, suburban garden, \n",
       "<mark class=\"entity\" style=\"background: #e4e7d2; padding: 0.45em 0.6em; margin: 0 0.25em; line-height: 1; border-radius: 0.35em; box-decoration-break: clone; -webkit-box-decoration-break: clone\">\n",
       "    80\n",
       "    <span style=\"font-size: 0.8em; font-weight: bold; line-height: 1; border-radius: 0.35em; text-transform: uppercase; vertical-align: middle; margin-left: 0.5rem\">CARDINAL</span>\n",
       "</mark>\n",
       "-90’s vintage                 * High growth markets                 * Deal size: $\n",
       "<mark class=\"entity\" style=\"background: #e4e7d2; padding: 0.45em 0.6em; margin: 0 0.25em; line-height: 1; border-radius: 0.35em; box-decoration-break: clone; -webkit-box-decoration-break: clone\">\n",
       "    250M+\n",
       "    <span style=\"font-size: 0.8em; font-weight: bold; line-height: 1; border-radius: 0.35em; text-transform: uppercase; vertical-align: middle; margin-left: 0.5rem\">MONEY</span>\n",
       "</mark>\n",
       "             * Fund #\n",
       "<mark class=\"entity\" style=\"background: #e4e7d2; padding: 0.45em 0.6em; margin: 0 0.25em; line-height: 1; border-radius: 0.35em; box-decoration-break: clone; -webkit-box-decoration-break: clone\">\n",
       "    2\n",
       "    <span style=\"font-size: 0.8em; font-weight: bold; line-height: 1; border-radius: 0.35em; text-transform: uppercase; vertical-align: middle; margin-left: 0.5rem\">MONEY</span>\n",
       "</mark>\n",
       "  \n",
       "<mark class=\"entity\" style=\"background: #7aecec; padding: 0.45em 0.6em; margin: 0 0.25em; line-height: 1; border-radius: 0.35em; box-decoration-break: clone; -webkit-box-decoration-break: clone\">\n",
       "    Core\n",
       "    <span style=\"font-size: 0.8em; font-weight: bold; line-height: 1; border-radius: 0.35em; text-transform: uppercase; vertical-align: middle; margin-left: 0.5rem\">ORG</span>\n",
       "</mark>\n",
       "-plus vehicle                 * Lower on the rick threshold, capped at \n",
       "<mark class=\"entity\" style=\"background: #e4e7d2; padding: 0.45em 0.6em; margin: 0 0.25em; line-height: 1; border-radius: 0.35em; box-decoration-break: clone; -webkit-box-decoration-break: clone\">\n",
       "    50%\n",
       "    <span style=\"font-size: 0.8em; font-weight: bold; line-height: 1; border-radius: 0.35em; text-transform: uppercase; vertical-align: middle; margin-left: 0.5rem\">PERCENT</span>\n",
       "</mark>\n",
       "                 * Institutional quality in gateway markets                 * \n",
       "<mark class=\"entity\" style=\"background: #7aecec; padding: 0.45em 0.6em; margin: 0 0.25em; line-height: 1; border-radius: 0.35em; box-decoration-break: clone; -webkit-box-decoration-break: clone\">\n",
       "    Completed\n",
       "    <span style=\"font-size: 0.8em; font-weight: bold; line-height: 1; border-radius: 0.35em; text-transform: uppercase; vertical-align: middle; margin-left: 0.5rem\">ORG</span>\n",
       "</mark>\n",
       " \n",
       "<mark class=\"entity\" style=\"background: #e4e7d2; padding: 0.45em 0.6em; margin: 0 0.25em; line-height: 1; border-radius: 0.35em; box-decoration-break: clone; -webkit-box-decoration-break: clone\">\n",
       "    two\n",
       "    <span style=\"font-size: 0.8em; font-weight: bold; line-height: 1; border-radius: 0.35em; text-transform: uppercase; vertical-align: middle; margin-left: 0.5rem\">CARDINAL</span>\n",
       "</mark>\n",
       " recaps in \n",
       "<mark class=\"entity\" style=\"background: #feca74; padding: 0.45em 0.6em; margin: 0 0.25em; line-height: 1; border-radius: 0.35em; box-decoration-break: clone; -webkit-box-decoration-break: clone\">\n",
       "    Seattle\n",
       "    <span style=\"font-size: 0.8em; font-weight: bold; line-height: 1; border-radius: 0.35em; text-transform: uppercase; vertical-align: middle; margin-left: 0.5rem\">GPE</span>\n",
       "</mark>\n",
       "                 * Deal size: \n",
       "<mark class=\"entity\" style=\"background: #e4e7d2; padding: 0.45em 0.6em; margin: 0 0.25em; line-height: 1; border-radius: 0.35em; box-decoration-break: clone; -webkit-box-decoration-break: clone\">\n",
       "    $250\n",
       "    <span style=\"font-size: 0.8em; font-weight: bold; line-height: 1; border-radius: 0.35em; text-transform: uppercase; vertical-align: middle; margin-left: 0.5rem\">MONEY</span>\n",
       "</mark>\n",
       "M         * Fund \n",
       "<mark class=\"entity\" style=\"background: #e4e7d2; padding: 0.45em 0.6em; margin: 0 0.25em; line-height: 1; border-radius: 0.35em; box-decoration-break: clone; -webkit-box-decoration-break: clone\">\n",
       "    #3\n",
       "    <span style=\"font-size: 0.8em; font-weight: bold; line-height: 1; border-radius: 0.35em; text-transform: uppercase; vertical-align: middle; margin-left: 0.5rem\">MONEY</span>\n",
       "</mark>\n",
       "         * Invests heavily in \n",
       "<mark class=\"entity\" style=\"background: #7aecec; padding: 0.45em 0.6em; margin: 0 0.25em; line-height: 1; border-radius: 0.35em; box-decoration-break: clone; -webkit-box-decoration-break: clone\">\n",
       "    MF\n",
       "    <span style=\"font-size: 0.8em; font-weight: bold; line-height: 1; border-radius: 0.35em; text-transform: uppercase; vertical-align: middle; margin-left: 0.5rem\">ORG</span>\n",
       "</mark>\n",
       "         * \n",
       "<mark class=\"entity\" style=\"background: #e4e7d2; padding: 0.45em 0.6em; margin: 0 0.25em; line-height: 1; border-radius: 0.35em; box-decoration-break: clone; -webkit-box-decoration-break: clone\">\n",
       "    7-8%\n",
       "    <span style=\"font-size: 0.8em; font-weight: bold; line-height: 1; border-radius: 0.35em; text-transform: uppercase; vertical-align: middle; margin-left: 0.5rem\">PERCENT</span>\n",
       "</mark>\n",
       " cash on cash         * Looking for \n",
       "<mark class=\"entity\" style=\"background: #e4e7d2; padding: 0.45em 0.6em; margin: 0 0.25em; line-height: 1; border-radius: 0.35em; box-decoration-break: clone; -webkit-box-decoration-break: clone\">\n",
       "    $100M+ deals\n",
       "    <span style=\"font-size: 0.8em; font-weight: bold; line-height: 1; border-radius: 0.35em; text-transform: uppercase; vertical-align: middle; margin-left: 0.5rem\">MONEY</span>\n",
       "</mark>\n",
       "         * Very flexible</div>"
      ],
      "text/plain": [
       "<IPython.core.display.HTML object>"
      ]
     },
     "metadata": {},
     "output_type": "display_data"
    },
    {
     "name": "stdout",
     "output_type": "stream",
     "text": [
      "---------------------------------------------------\n",
      "RESULTS:memo_3\n",
      "\n",
      "{'CARDINAL': ['3', '80', 'two'],\n",
      " 'DATE': ['last year'],\n",
      " 'GPE': ['US', 'Seattle'],\n",
      " 'MONEY': ['250M+', '2', '$250', '#3', '$100M+ deals'],\n",
      " 'ORDINAL': ['tertiary'],\n",
      " 'ORG': ['Multi-Family Property Overview',\n",
      "         'MF - $5.5B',\n",
      "         'MF',\n",
      "         'Core',\n",
      "         'Completed',\n",
      "         'MF'],\n",
      " 'PERCENT': ['50%', '7-8%'],\n",
      " 'PERSON': ['Avoid']}\n",
      "\n",
      "\n",
      "TEXT:memo_4\n",
      "---------------------------------------------------\n",
      "They are open to geographies and can do deals as small as $50mm.\n",
      "        * Industrial: hungry for more industrial and need size/quality. Have difficulty pricing cold storage.\n",
      "        * Healthcare/MOB/AL/IL: Hugely bullish as they continue to grow in the space.\n",
      "        * Hospitality: cautious on the national hotel front, but interested in NYC\n",
      "        * West Coast: consensus seems that as they continue buying and selling in early 2017, they will be\n",
      "        a net buyer on the west coast in 2017.\n",
      "---------------------------------------------------\n",
      "NER:memo_4\n",
      "\n"
     ]
    },
    {
     "data": {
      "text/html": [
       "<div class=\"entities\" style=\"line-height: 2.5\">They are open to geographies and can do deals as small as $\n",
       "<mark class=\"entity\" style=\"background: #e4e7d2; padding: 0.45em 0.6em; margin: 0 0.25em; line-height: 1; border-radius: 0.35em; box-decoration-break: clone; -webkit-box-decoration-break: clone\">\n",
       "    50\n",
       "    <span style=\"font-size: 0.8em; font-weight: bold; line-height: 1; border-radius: 0.35em; text-transform: uppercase; vertical-align: middle; margin-left: 0.5rem\">MONEY</span>\n",
       "</mark>\n",
       "\n",
       "<mark class=\"entity\" style=\"background: #aa9cfc; padding: 0.45em 0.6em; margin: 0 0.25em; line-height: 1; border-radius: 0.35em; box-decoration-break: clone; -webkit-box-decoration-break: clone\">\n",
       "    mm\n",
       "    <span style=\"font-size: 0.8em; font-weight: bold; line-height: 1; border-radius: 0.35em; text-transform: uppercase; vertical-align: middle; margin-left: 0.5rem\">PERSON</span>\n",
       "</mark>\n",
       ".         * Industrial: hungry for more industrial and need size/quality. Have difficulty pricing cold storage.         * \n",
       "<mark class=\"entity\" style=\"background: #7aecec; padding: 0.45em 0.6em; margin: 0 0.25em; line-height: 1; border-radius: 0.35em; box-decoration-break: clone; -webkit-box-decoration-break: clone\">\n",
       "    Healthcare/MOB/AL/IL: Hugely\n",
       "    <span style=\"font-size: 0.8em; font-weight: bold; line-height: 1; border-radius: 0.35em; text-transform: uppercase; vertical-align: middle; margin-left: 0.5rem\">ORG</span>\n",
       "</mark>\n",
       " bullish as they continue to grow in the space.         * Hospitality: cautious on the national hotel front, but interested in \n",
       "<mark class=\"entity\" style=\"background: #aa9cfc; padding: 0.45em 0.6em; margin: 0 0.25em; line-height: 1; border-radius: 0.35em; box-decoration-break: clone; -webkit-box-decoration-break: clone\">\n",
       "    NYC         \n",
       "    <span style=\"font-size: 0.8em; font-weight: bold; line-height: 1; border-radius: 0.35em; text-transform: uppercase; vertical-align: middle; margin-left: 0.5rem\">PERSON</span>\n",
       "</mark>\n",
       "* \n",
       "<mark class=\"entity\" style=\"background: #ff9561; padding: 0.45em 0.6em; margin: 0 0.25em; line-height: 1; border-radius: 0.35em; box-decoration-break: clone; -webkit-box-decoration-break: clone\">\n",
       "    West Coast\n",
       "    <span style=\"font-size: 0.8em; font-weight: bold; line-height: 1; border-radius: 0.35em; text-transform: uppercase; vertical-align: middle; margin-left: 0.5rem\">LOC</span>\n",
       "</mark>\n",
       ": consensus seems that as they continue buying and selling in \n",
       "<mark class=\"entity\" style=\"background: #bfe1d9; padding: 0.45em 0.6em; margin: 0 0.25em; line-height: 1; border-radius: 0.35em; box-decoration-break: clone; -webkit-box-decoration-break: clone\">\n",
       "    early 2017\n",
       "    <span style=\"font-size: 0.8em; font-weight: bold; line-height: 1; border-radius: 0.35em; text-transform: uppercase; vertical-align: middle; margin-left: 0.5rem\">DATE</span>\n",
       "</mark>\n",
       ", they will be         a net buyer on the west coast in \n",
       "<mark class=\"entity\" style=\"background: #bfe1d9; padding: 0.45em 0.6em; margin: 0 0.25em; line-height: 1; border-radius: 0.35em; box-decoration-break: clone; -webkit-box-decoration-break: clone\">\n",
       "    2017\n",
       "    <span style=\"font-size: 0.8em; font-weight: bold; line-height: 1; border-radius: 0.35em; text-transform: uppercase; vertical-align: middle; margin-left: 0.5rem\">DATE</span>\n",
       "</mark>\n",
       ".</div>"
      ],
      "text/plain": [
       "<IPython.core.display.HTML object>"
      ]
     },
     "metadata": {},
     "output_type": "display_data"
    },
    {
     "name": "stdout",
     "output_type": "stream",
     "text": [
      "---------------------------------------------------\n",
      "RESULTS:memo_4\n",
      "\n",
      "{'DATE': ['early 2017', '2017'],\n",
      " 'LOC': ['West Coast'],\n",
      " 'MONEY': ['50'],\n",
      " 'ORG': ['Healthcare/MOB/AL/IL: Hugely'],\n",
      " 'PERSON': ['mm', 'NYC']}\n",
      "\n",
      "\n"
     ]
    }
   ],
   "source": [
    "for row in df.client_B.index:\n",
    "    mem = df.client_B[row]\n",
    "    memo = mem.replace('\\n',' ')  # remove newline\n",
    "    doc = nlp(memo)\n",
    "    print('TEXT:{}'.format(row))\n",
    "    print('---------------------------------------------------')\n",
    "    print(mem)\n",
    "    print('---------------------------------------------------')\n",
    "    # MEMO 1\n",
    "    print('NER:{}\\n'.format(row))\n",
    "    displacy.render(doc, jupyter=True, style='ent')\n",
    "    print('---------------------------------------------------')\n",
    "    print('RESULTS:{}\\n'.format(row))\n",
    "    pprint(report(doc))\n",
    "    print('\\n')"
   ]
  },
  {
   "cell_type": "markdown",
   "metadata": {},
   "source": [
    "---\n",
    "# Client C\n",
    "- memo 1\n",
    "- memo 2\n",
    "- memo 3\n",
    "- memo 4"
   ]
  },
  {
   "cell_type": "code",
   "execution_count": 28,
   "metadata": {},
   "outputs": [
    {
     "name": "stdout",
     "output_type": "stream",
     "text": [
      "TEXT:memo_1\n",
      "---------------------------------------------------\n",
      "I had a call with Carol at Circle Inc to discuss their investment criteria for office acquisitions. As many of you\n",
      "        know, they are an office owner that has been focused on coastal markets and Chicago. He indicated\n",
      "        that they are now having strategic discussions about entry into other markets such as Austin, Denver,\n",
      "        Charlotte, Nashville, etc. At this point it is only exploratory and they are not ready to pursue new deals\n",
      "        yet. They are going to focus on Austin first and have asked for our help educating them on the market.  \n",
      "        We are coordinating a meeting next month in Austin to give them an overview and market tour. I let\n",
      "        him know that we can help in other markets and will be ready to assist at the appropriate time.\n",
      "---------------------------------------------------\n",
      "NER:memo_1\n",
      "\n"
     ]
    },
    {
     "data": {
      "text/html": [
       "<div class=\"entities\" style=\"line-height: 2.5\">I had a call with \n",
       "<mark class=\"entity\" style=\"background: #7aecec; padding: 0.45em 0.6em; margin: 0 0.25em; line-height: 1; border-radius: 0.35em; box-decoration-break: clone; -webkit-box-decoration-break: clone\">\n",
       "    Carol at Circle Inc\n",
       "    <span style=\"font-size: 0.8em; font-weight: bold; line-height: 1; border-radius: 0.35em; text-transform: uppercase; vertical-align: middle; margin-left: 0.5rem\">ORG</span>\n",
       "</mark>\n",
       " to discuss their investment criteria for office acquisitions. As many of you         know, they are an office owner that has been focused on coastal markets and \n",
       "<mark class=\"entity\" style=\"background: #feca74; padding: 0.45em 0.6em; margin: 0 0.25em; line-height: 1; border-radius: 0.35em; box-decoration-break: clone; -webkit-box-decoration-break: clone\">\n",
       "    Chicago\n",
       "    <span style=\"font-size: 0.8em; font-weight: bold; line-height: 1; border-radius: 0.35em; text-transform: uppercase; vertical-align: middle; margin-left: 0.5rem\">GPE</span>\n",
       "</mark>\n",
       ". He indicated         that they are now having strategic discussions about entry into other markets such as \n",
       "<mark class=\"entity\" style=\"background: #feca74; padding: 0.45em 0.6em; margin: 0 0.25em; line-height: 1; border-radius: 0.35em; box-decoration-break: clone; -webkit-box-decoration-break: clone\">\n",
       "    Austin\n",
       "    <span style=\"font-size: 0.8em; font-weight: bold; line-height: 1; border-radius: 0.35em; text-transform: uppercase; vertical-align: middle; margin-left: 0.5rem\">GPE</span>\n",
       "</mark>\n",
       ", \n",
       "<mark class=\"entity\" style=\"background: #feca74; padding: 0.45em 0.6em; margin: 0 0.25em; line-height: 1; border-radius: 0.35em; box-decoration-break: clone; -webkit-box-decoration-break: clone\">\n",
       "    Denver\n",
       "    <span style=\"font-size: 0.8em; font-weight: bold; line-height: 1; border-radius: 0.35em; text-transform: uppercase; vertical-align: middle; margin-left: 0.5rem\">GPE</span>\n",
       "</mark>\n",
       ", \n",
       "<mark class=\"entity\" style=\"background: #aa9cfc; padding: 0.45em 0.6em; margin: 0 0.25em; line-height: 1; border-radius: 0.35em; box-decoration-break: clone; -webkit-box-decoration-break: clone\">\n",
       "            Charlotte\n",
       "    <span style=\"font-size: 0.8em; font-weight: bold; line-height: 1; border-radius: 0.35em; text-transform: uppercase; vertical-align: middle; margin-left: 0.5rem\">PERSON</span>\n",
       "</mark>\n",
       ", \n",
       "<mark class=\"entity\" style=\"background: #feca74; padding: 0.45em 0.6em; margin: 0 0.25em; line-height: 1; border-radius: 0.35em; box-decoration-break: clone; -webkit-box-decoration-break: clone\">\n",
       "    Nashville\n",
       "    <span style=\"font-size: 0.8em; font-weight: bold; line-height: 1; border-radius: 0.35em; text-transform: uppercase; vertical-align: middle; margin-left: 0.5rem\">GPE</span>\n",
       "</mark>\n",
       ", etc. At this point it is only exploratory and they are not ready to pursue new deals         yet. They are going to focus on \n",
       "<mark class=\"entity\" style=\"background: #aa9cfc; padding: 0.45em 0.6em; margin: 0 0.25em; line-height: 1; border-radius: 0.35em; box-decoration-break: clone; -webkit-box-decoration-break: clone\">\n",
       "    Austin\n",
       "    <span style=\"font-size: 0.8em; font-weight: bold; line-height: 1; border-radius: 0.35em; text-transform: uppercase; vertical-align: middle; margin-left: 0.5rem\">PERSON</span>\n",
       "</mark>\n",
       " \n",
       "<mark class=\"entity\" style=\"background: #e4e7d2; padding: 0.45em 0.6em; margin: 0 0.25em; line-height: 1; border-radius: 0.35em; box-decoration-break: clone; -webkit-box-decoration-break: clone\">\n",
       "    first\n",
       "    <span style=\"font-size: 0.8em; font-weight: bold; line-height: 1; border-radius: 0.35em; text-transform: uppercase; vertical-align: middle; margin-left: 0.5rem\">ORDINAL</span>\n",
       "</mark>\n",
       " and have asked for our help educating them on the market.           We are coordinating a meeting \n",
       "<mark class=\"entity\" style=\"background: #bfe1d9; padding: 0.45em 0.6em; margin: 0 0.25em; line-height: 1; border-radius: 0.35em; box-decoration-break: clone; -webkit-box-decoration-break: clone\">\n",
       "    next month\n",
       "    <span style=\"font-size: 0.8em; font-weight: bold; line-height: 1; border-radius: 0.35em; text-transform: uppercase; vertical-align: middle; margin-left: 0.5rem\">DATE</span>\n",
       "</mark>\n",
       " in \n",
       "<mark class=\"entity\" style=\"background: #feca74; padding: 0.45em 0.6em; margin: 0 0.25em; line-height: 1; border-radius: 0.35em; box-decoration-break: clone; -webkit-box-decoration-break: clone\">\n",
       "    Austin\n",
       "    <span style=\"font-size: 0.8em; font-weight: bold; line-height: 1; border-radius: 0.35em; text-transform: uppercase; vertical-align: middle; margin-left: 0.5rem\">GPE</span>\n",
       "</mark>\n",
       " to give them an overview and market tour. I let         him know that we can help in other markets and will be ready to assist at the appropriate time.</div>"
      ],
      "text/plain": [
       "<IPython.core.display.HTML object>"
      ]
     },
     "metadata": {},
     "output_type": "display_data"
    },
    {
     "name": "stdout",
     "output_type": "stream",
     "text": [
      "---------------------------------------------------\n",
      "RESULTS:memo_1\n",
      "\n",
      "{'DATE': ['next month'],\n",
      " 'GPE': ['Chicago', 'Austin', 'Denver', 'Nashville', 'Austin'],\n",
      " 'ORDINAL': ['first'],\n",
      " 'ORG': ['Carol at Circle Inc'],\n",
      " 'PERSON': ['Charlotte', 'Austin']}\n",
      "\n",
      "\n",
      "TEXT:memo_2\n",
      "---------------------------------------------------\n",
      "They would like to see all core and value-add multifamily and office opportunities in their target\n",
      "        markets as well as all development deals.\n",
      "        * New York\n",
      "        * Chicago\n",
      "        * Boston\n",
      "        * San Francisco\n",
      "        * Los Angeles\n",
      "        * Portland/Seattle\n",
      "        * Washington DC\n",
      "---------------------------------------------------\n",
      "NER:memo_2\n",
      "\n"
     ]
    },
    {
     "data": {
      "text/html": [
       "<div class=\"entities\" style=\"line-height: 2.5\">They would like to see all core and value-add multifamily and office opportunities in their target         markets as well as all development deals.         * \n",
       "<mark class=\"entity\" style=\"background: #feca74; padding: 0.45em 0.6em; margin: 0 0.25em; line-height: 1; border-radius: 0.35em; box-decoration-break: clone; -webkit-box-decoration-break: clone\">\n",
       "    New York\n",
       "    <span style=\"font-size: 0.8em; font-weight: bold; line-height: 1; border-radius: 0.35em; text-transform: uppercase; vertical-align: middle; margin-left: 0.5rem\">GPE</span>\n",
       "</mark>\n",
       "         * \n",
       "<mark class=\"entity\" style=\"background: #feca74; padding: 0.45em 0.6em; margin: 0 0.25em; line-height: 1; border-radius: 0.35em; box-decoration-break: clone; -webkit-box-decoration-break: clone\">\n",
       "    Chicago\n",
       "    <span style=\"font-size: 0.8em; font-weight: bold; line-height: 1; border-radius: 0.35em; text-transform: uppercase; vertical-align: middle; margin-left: 0.5rem\">GPE</span>\n",
       "</mark>\n",
       "         * \n",
       "<mark class=\"entity\" style=\"background: #feca74; padding: 0.45em 0.6em; margin: 0 0.25em; line-height: 1; border-radius: 0.35em; box-decoration-break: clone; -webkit-box-decoration-break: clone\">\n",
       "    Boston\n",
       "    <span style=\"font-size: 0.8em; font-weight: bold; line-height: 1; border-radius: 0.35em; text-transform: uppercase; vertical-align: middle; margin-left: 0.5rem\">GPE</span>\n",
       "</mark>\n",
       "         * \n",
       "<mark class=\"entity\" style=\"background: #feca74; padding: 0.45em 0.6em; margin: 0 0.25em; line-height: 1; border-radius: 0.35em; box-decoration-break: clone; -webkit-box-decoration-break: clone\">\n",
       "    San Francisco\n",
       "    <span style=\"font-size: 0.8em; font-weight: bold; line-height: 1; border-radius: 0.35em; text-transform: uppercase; vertical-align: middle; margin-left: 0.5rem\">GPE</span>\n",
       "</mark>\n",
       "         * \n",
       "<mark class=\"entity\" style=\"background: #feca74; padding: 0.45em 0.6em; margin: 0 0.25em; line-height: 1; border-radius: 0.35em; box-decoration-break: clone; -webkit-box-decoration-break: clone\">\n",
       "    Los Angeles\n",
       "    <span style=\"font-size: 0.8em; font-weight: bold; line-height: 1; border-radius: 0.35em; text-transform: uppercase; vertical-align: middle; margin-left: 0.5rem\">GPE</span>\n",
       "</mark>\n",
       "         * \n",
       "<mark class=\"entity\" style=\"background: #feca74; padding: 0.45em 0.6em; margin: 0 0.25em; line-height: 1; border-radius: 0.35em; box-decoration-break: clone; -webkit-box-decoration-break: clone\">\n",
       "    Portland\n",
       "    <span style=\"font-size: 0.8em; font-weight: bold; line-height: 1; border-radius: 0.35em; text-transform: uppercase; vertical-align: middle; margin-left: 0.5rem\">GPE</span>\n",
       "</mark>\n",
       "/Seattle         * \n",
       "<mark class=\"entity\" style=\"background: #feca74; padding: 0.45em 0.6em; margin: 0 0.25em; line-height: 1; border-radius: 0.35em; box-decoration-break: clone; -webkit-box-decoration-break: clone\">\n",
       "    Washington DC\n",
       "    <span style=\"font-size: 0.8em; font-weight: bold; line-height: 1; border-radius: 0.35em; text-transform: uppercase; vertical-align: middle; margin-left: 0.5rem\">GPE</span>\n",
       "</mark>\n",
       "</div>"
      ],
      "text/plain": [
       "<IPython.core.display.HTML object>"
      ]
     },
     "metadata": {},
     "output_type": "display_data"
    },
    {
     "name": "stdout",
     "output_type": "stream",
     "text": [
      "---------------------------------------------------\n",
      "RESULTS:memo_2\n",
      "\n",
      "{'GPE': ['New York',\n",
      "         'Chicago',\n",
      "         'Boston',\n",
      "         'San Francisco',\n",
      "         'Los Angeles',\n",
      "         'Portland',\n",
      "         'Washington DC']}\n",
      "\n",
      "\n",
      "TEXT:memo_3\n",
      "---------------------------------------------------\n",
      "Circle Inc is aggressively looking to build their MH pipeline in LA via ground up development similar to what\n",
      "        they are doing in the Bay Area and on the East Coast. Will look at apartments or condos, and ok with\n",
      "        un-entitled sites as long as there is some income to limit downside. 150 units+ and product type\n",
      "        agnostic (high/mid rise). Targeting a low-mid 5% un-trended ROC.\n",
      "---------------------------------------------------\n",
      "NER:memo_3\n",
      "\n"
     ]
    },
    {
     "data": {
      "text/html": [
       "<div class=\"entities\" style=\"line-height: 2.5\">\n",
       "<mark class=\"entity\" style=\"background: #7aecec; padding: 0.45em 0.6em; margin: 0 0.25em; line-height: 1; border-radius: 0.35em; box-decoration-break: clone; -webkit-box-decoration-break: clone\">\n",
       "    Circle Inc\n",
       "    <span style=\"font-size: 0.8em; font-weight: bold; line-height: 1; border-radius: 0.35em; text-transform: uppercase; vertical-align: middle; margin-left: 0.5rem\">ORG</span>\n",
       "</mark>\n",
       " is aggressively looking to build their \n",
       "<mark class=\"entity\" style=\"background: #7aecec; padding: 0.45em 0.6em; margin: 0 0.25em; line-height: 1; border-radius: 0.35em; box-decoration-break: clone; -webkit-box-decoration-break: clone\">\n",
       "    MH\n",
       "    <span style=\"font-size: 0.8em; font-weight: bold; line-height: 1; border-radius: 0.35em; text-transform: uppercase; vertical-align: middle; margin-left: 0.5rem\">ORG</span>\n",
       "</mark>\n",
       " pipeline in \n",
       "<mark class=\"entity\" style=\"background: #feca74; padding: 0.45em 0.6em; margin: 0 0.25em; line-height: 1; border-radius: 0.35em; box-decoration-break: clone; -webkit-box-decoration-break: clone\">\n",
       "    LA\n",
       "    <span style=\"font-size: 0.8em; font-weight: bold; line-height: 1; border-radius: 0.35em; text-transform: uppercase; vertical-align: middle; margin-left: 0.5rem\">GPE</span>\n",
       "</mark>\n",
       " via ground up development similar to what         they are doing in \n",
       "<mark class=\"entity\" style=\"background: #ff9561; padding: 0.45em 0.6em; margin: 0 0.25em; line-height: 1; border-radius: 0.35em; box-decoration-break: clone; -webkit-box-decoration-break: clone\">\n",
       "    the Bay Area\n",
       "    <span style=\"font-size: 0.8em; font-weight: bold; line-height: 1; border-radius: 0.35em; text-transform: uppercase; vertical-align: middle; margin-left: 0.5rem\">LOC</span>\n",
       "</mark>\n",
       " and on \n",
       "<mark class=\"entity\" style=\"background: #ff9561; padding: 0.45em 0.6em; margin: 0 0.25em; line-height: 1; border-radius: 0.35em; box-decoration-break: clone; -webkit-box-decoration-break: clone\">\n",
       "    the East Coast\n",
       "    <span style=\"font-size: 0.8em; font-weight: bold; line-height: 1; border-radius: 0.35em; text-transform: uppercase; vertical-align: middle; margin-left: 0.5rem\">LOC</span>\n",
       "</mark>\n",
       ". Will look at apartments or condos, and ok with         un-entitled sites as long as there is some income to limit downside. \n",
       "<mark class=\"entity\" style=\"background: #e4e7d2; padding: 0.45em 0.6em; margin: 0 0.25em; line-height: 1; border-radius: 0.35em; box-decoration-break: clone; -webkit-box-decoration-break: clone\">\n",
       "    150\n",
       "    <span style=\"font-size: 0.8em; font-weight: bold; line-height: 1; border-radius: 0.35em; text-transform: uppercase; vertical-align: middle; margin-left: 0.5rem\">CARDINAL</span>\n",
       "</mark>\n",
       " units+ and product type         agnostic (high/mid rise). Targeting a low-mid \n",
       "<mark class=\"entity\" style=\"background: #e4e7d2; padding: 0.45em 0.6em; margin: 0 0.25em; line-height: 1; border-radius: 0.35em; box-decoration-break: clone; -webkit-box-decoration-break: clone\">\n",
       "    5%\n",
       "    <span style=\"font-size: 0.8em; font-weight: bold; line-height: 1; border-radius: 0.35em; text-transform: uppercase; vertical-align: middle; margin-left: 0.5rem\">PERCENT</span>\n",
       "</mark>\n",
       " un-trended \n",
       "<mark class=\"entity\" style=\"background: #feca74; padding: 0.45em 0.6em; margin: 0 0.25em; line-height: 1; border-radius: 0.35em; box-decoration-break: clone; -webkit-box-decoration-break: clone\">\n",
       "    ROC\n",
       "    <span style=\"font-size: 0.8em; font-weight: bold; line-height: 1; border-radius: 0.35em; text-transform: uppercase; vertical-align: middle; margin-left: 0.5rem\">GPE</span>\n",
       "</mark>\n",
       ".</div>"
      ],
      "text/plain": [
       "<IPython.core.display.HTML object>"
      ]
     },
     "metadata": {},
     "output_type": "display_data"
    },
    {
     "name": "stdout",
     "output_type": "stream",
     "text": [
      "---------------------------------------------------\n",
      "RESULTS:memo_3\n",
      "\n",
      "{'CARDINAL': ['150'],\n",
      " 'GPE': ['LA', 'ROC'],\n",
      " 'LOC': ['the Bay Area', 'the East Coast'],\n",
      " 'ORG': ['Circle Inc', 'MH'],\n",
      " 'PERCENT': ['5%']}\n",
      "\n",
      "\n",
      "TEXT:memo_4\n",
      "---------------------------------------------------\n",
      "Circle Inc is very focused on the following markets (read: 90% of what they will do) Boston, NYC, DC, Chicago,\n",
      "        Seattle. They will do value add and new development of office and multi-family. He mentioned they are\n",
      "        mainly focused on development as they do not like buying at 4.0-4.5% caps (they are building to 5.75%\n",
      "        to 6.0% ROC).\n",
      "        \n",
      "        Multi-family-They really like the fundamentals of multi-family as they continue to see a migration into\n",
      "        the cities across the U.S. and a movement away from home ownership. They believe transportation is\n",
      "        key. They will continue to develop multi-family in urban locations.\n",
      "        Office- They feel good about the fundamentals in all of their key markets. They are very focused on\n",
      "        being in top tier locations with transportation and amenities. They are seeing a lot of major companies\n",
      "        consolidating their offices into one accessible and highly desirable location and paying up for it.\n",
      "---------------------------------------------------\n",
      "NER:memo_4\n",
      "\n"
     ]
    },
    {
     "data": {
      "text/html": [
       "<div class=\"entities\" style=\"line-height: 2.5\">\n",
       "<mark class=\"entity\" style=\"background: #7aecec; padding: 0.45em 0.6em; margin: 0 0.25em; line-height: 1; border-radius: 0.35em; box-decoration-break: clone; -webkit-box-decoration-break: clone\">\n",
       "    Circle Inc\n",
       "    <span style=\"font-size: 0.8em; font-weight: bold; line-height: 1; border-radius: 0.35em; text-transform: uppercase; vertical-align: middle; margin-left: 0.5rem\">ORG</span>\n",
       "</mark>\n",
       " is very focused on the following markets (read: \n",
       "<mark class=\"entity\" style=\"background: #e4e7d2; padding: 0.45em 0.6em; margin: 0 0.25em; line-height: 1; border-radius: 0.35em; box-decoration-break: clone; -webkit-box-decoration-break: clone\">\n",
       "    90%\n",
       "    <span style=\"font-size: 0.8em; font-weight: bold; line-height: 1; border-radius: 0.35em; text-transform: uppercase; vertical-align: middle; margin-left: 0.5rem\">PERCENT</span>\n",
       "</mark>\n",
       " of what they will do) \n",
       "<mark class=\"entity\" style=\"background: #feca74; padding: 0.45em 0.6em; margin: 0 0.25em; line-height: 1; border-radius: 0.35em; box-decoration-break: clone; -webkit-box-decoration-break: clone\">\n",
       "    Boston\n",
       "    <span style=\"font-size: 0.8em; font-weight: bold; line-height: 1; border-radius: 0.35em; text-transform: uppercase; vertical-align: middle; margin-left: 0.5rem\">GPE</span>\n",
       "</mark>\n",
       ", \n",
       "<mark class=\"entity\" style=\"background: #feca74; padding: 0.45em 0.6em; margin: 0 0.25em; line-height: 1; border-radius: 0.35em; box-decoration-break: clone; -webkit-box-decoration-break: clone\">\n",
       "    NYC, DC\n",
       "    <span style=\"font-size: 0.8em; font-weight: bold; line-height: 1; border-radius: 0.35em; text-transform: uppercase; vertical-align: middle; margin-left: 0.5rem\">GPE</span>\n",
       "</mark>\n",
       ", \n",
       "<mark class=\"entity\" style=\"background: #feca74; padding: 0.45em 0.6em; margin: 0 0.25em; line-height: 1; border-radius: 0.35em; box-decoration-break: clone; -webkit-box-decoration-break: clone\">\n",
       "    Chicago\n",
       "    <span style=\"font-size: 0.8em; font-weight: bold; line-height: 1; border-radius: 0.35em; text-transform: uppercase; vertical-align: middle; margin-left: 0.5rem\">GPE</span>\n",
       "</mark>\n",
       ",         \n",
       "<mark class=\"entity\" style=\"background: #feca74; padding: 0.45em 0.6em; margin: 0 0.25em; line-height: 1; border-radius: 0.35em; box-decoration-break: clone; -webkit-box-decoration-break: clone\">\n",
       "    Seattle\n",
       "    <span style=\"font-size: 0.8em; font-weight: bold; line-height: 1; border-radius: 0.35em; text-transform: uppercase; vertical-align: middle; margin-left: 0.5rem\">GPE</span>\n",
       "</mark>\n",
       ". They will do value add and new development of office and multi-family. He mentioned they are         mainly focused on development as they do not like buying at \n",
       "<mark class=\"entity\" style=\"background: #e4e7d2; padding: 0.45em 0.6em; margin: 0 0.25em; line-height: 1; border-radius: 0.35em; box-decoration-break: clone; -webkit-box-decoration-break: clone\">\n",
       "    4.0-4.5%\n",
       "    <span style=\"font-size: 0.8em; font-weight: bold; line-height: 1; border-radius: 0.35em; text-transform: uppercase; vertical-align: middle; margin-left: 0.5rem\">PERCENT</span>\n",
       "</mark>\n",
       " caps (they are building to \n",
       "<mark class=\"entity\" style=\"background: #e4e7d2; padding: 0.45em 0.6em; margin: 0 0.25em; line-height: 1; border-radius: 0.35em; box-decoration-break: clone; -webkit-box-decoration-break: clone\">\n",
       "    5.75%\n",
       "    <span style=\"font-size: 0.8em; font-weight: bold; line-height: 1; border-radius: 0.35em; text-transform: uppercase; vertical-align: middle; margin-left: 0.5rem\">PERCENT</span>\n",
       "</mark>\n",
       "         to \n",
       "<mark class=\"entity\" style=\"background: #e4e7d2; padding: 0.45em 0.6em; margin: 0 0.25em; line-height: 1; border-radius: 0.35em; box-decoration-break: clone; -webkit-box-decoration-break: clone\">\n",
       "    6.0%\n",
       "    <span style=\"font-size: 0.8em; font-weight: bold; line-height: 1; border-radius: 0.35em; text-transform: uppercase; vertical-align: middle; margin-left: 0.5rem\">PERCENT</span>\n",
       "</mark>\n",
       " \n",
       "<mark class=\"entity\" style=\"background: #feca74; padding: 0.45em 0.6em; margin: 0 0.25em; line-height: 1; border-radius: 0.35em; box-decoration-break: clone; -webkit-box-decoration-break: clone\">\n",
       "    ROC\n",
       "    <span style=\"font-size: 0.8em; font-weight: bold; line-height: 1; border-radius: 0.35em; text-transform: uppercase; vertical-align: middle; margin-left: 0.5rem\">GPE</span>\n",
       "</mark>\n",
       ").                  Multi-family-They really like the fundamentals of multi-family as they continue to see a migration into         the cities across the \n",
       "<mark class=\"entity\" style=\"background: #feca74; padding: 0.45em 0.6em; margin: 0 0.25em; line-height: 1; border-radius: 0.35em; box-decoration-break: clone; -webkit-box-decoration-break: clone\">\n",
       "    U.S.\n",
       "    <span style=\"font-size: 0.8em; font-weight: bold; line-height: 1; border-radius: 0.35em; text-transform: uppercase; vertical-align: middle; margin-left: 0.5rem\">GPE</span>\n",
       "</mark>\n",
       " and a movement away from home ownership. They believe transportation is         key. They will continue to develop multi-family in urban locations.         Office- They feel good about the fundamentals in all of their key markets. They are very focused on         being in top tier locations with transportation and amenities. They are seeing a lot of major companies         consolidating their offices into \n",
       "<mark class=\"entity\" style=\"background: #e4e7d2; padding: 0.45em 0.6em; margin: 0 0.25em; line-height: 1; border-radius: 0.35em; box-decoration-break: clone; -webkit-box-decoration-break: clone\">\n",
       "    one\n",
       "    <span style=\"font-size: 0.8em; font-weight: bold; line-height: 1; border-radius: 0.35em; text-transform: uppercase; vertical-align: middle; margin-left: 0.5rem\">CARDINAL</span>\n",
       "</mark>\n",
       " accessible and highly desirable location and paying up for it.</div>"
      ],
      "text/plain": [
       "<IPython.core.display.HTML object>"
      ]
     },
     "metadata": {},
     "output_type": "display_data"
    },
    {
     "name": "stdout",
     "output_type": "stream",
     "text": [
      "---------------------------------------------------\n",
      "RESULTS:memo_4\n",
      "\n",
      "{'CARDINAL': ['one'],\n",
      " 'GPE': ['Boston', 'NYC, DC', 'Chicago', 'Seattle', 'ROC', 'U.S.'],\n",
      " 'ORG': ['Circle Inc'],\n",
      " 'PERCENT': ['90%', '4.0-4.5%', '5.75%', '6.0%']}\n",
      "\n",
      "\n"
     ]
    }
   ],
   "source": [
    "for row in df.client_C.index:\n",
    "    mem = df.client_C[row]\n",
    "    memo = mem.replace('\\n',' ')  # remove newline\n",
    "    doc = nlp(memo)\n",
    "    print('TEXT:{}'.format(row))\n",
    "    print('---------------------------------------------------')\n",
    "    print(mem)\n",
    "    print('---------------------------------------------------')\n",
    "    # MEMO 1\n",
    "    print('NER:{}\\n'.format(row))\n",
    "    displacy.render(doc, jupyter=True, style='ent')\n",
    "    print('---------------------------------------------------')\n",
    "    print('RESULTS:{}\\n'.format(row))\n",
    "    pprint(report(doc))\n",
    "    print('\\n')"
   ]
  },
  {
   "cell_type": "markdown",
   "metadata": {},
   "source": [
    "# Recomendations\n",
    "- Updating the Named Entity Recognizer\n",
    "- needs more data for correct NER training\n",
    "- train for domain specific terms\n",
    "- Real Estate & Finantial Abbreviations\n",
    "    > `ROC,REIT,MOB,\"value-add\",...`\n",
    "\n",
    "- example https://github.com/explosion/spacy/blob/master/examples/training/train_ner.py"
   ]
  },
  {
   "cell_type": "code",
   "execution_count": null,
   "metadata": {},
   "outputs": [],
   "source": []
  },
  {
   "cell_type": "code",
   "execution_count": null,
   "metadata": {},
   "outputs": [],
   "source": []
  }
 ],
 "metadata": {
  "kernelspec": {
   "display_name": "Python 3",
   "language": "python",
   "name": "python3"
  },
  "language_info": {
   "codemirror_mode": {
    "name": "ipython",
    "version": 3
   },
   "file_extension": ".py",
   "mimetype": "text/x-python",
   "name": "python",
   "nbconvert_exporter": "python",
   "pygments_lexer": "ipython3",
   "version": "3.7.1"
  }
 },
 "nbformat": 4,
 "nbformat_minor": 2
}
