{
 "cells": [
  {
   "cell_type": "code",
   "execution_count": 5,
   "metadata": {},
   "outputs": [],
   "source": [
    "import pandas as pd\n",
    "import numpy as np\n",
    "from data import clients  # our data\n",
    "import spacy\n",
    "from pprint import pprint\n",
    "nlp = spacy.load('en')\n",
    "from spacy import displacy\n",
    "import nltk\n",
    "from terms import RE_MAP,REA_MAP\n",
    "from pprint import pprint\n",
    "import re"
   ]
  },
  {
   "cell_type": "markdown",
   "metadata": {},
   "source": [
    "## load data"
   ]
  },
  {
   "cell_type": "code",
   "execution_count": 6,
   "metadata": {},
   "outputs": [],
   "source": [
    "df = pd.DataFrame.from_dict(clients)  # load our dirty data in pandas"
   ]
  },
  {
   "cell_type": "code",
   "execution_count": 7,
   "metadata": {},
   "outputs": [
    {
     "data": {
      "text/html": [
       "<div>\n",
       "<style scoped>\n",
       "    .dataframe tbody tr th:only-of-type {\n",
       "        vertical-align: middle;\n",
       "    }\n",
       "\n",
       "    .dataframe tbody tr th {\n",
       "        vertical-align: top;\n",
       "    }\n",
       "\n",
       "    .dataframe thead th {\n",
       "        text-align: right;\n",
       "    }\n",
       "</style>\n",
       "<table border=\"1\" class=\"dataframe\">\n",
       "  <thead>\n",
       "    <tr style=\"text-align: right;\">\n",
       "      <th></th>\n",
       "      <th>client_A</th>\n",
       "      <th>client_B</th>\n",
       "      <th>client_C</th>\n",
       "    </tr>\n",
       "  </thead>\n",
       "  <tbody>\n",
       "    <tr>\n",
       "      <th>memo_1</th>\n",
       "      <td>I recently caught up with Adam of Argos Group ...</td>\n",
       "      <td>Retail Property Overview \\n        * Target in...</td>\n",
       "      <td>I had a call with Carol at Circle Inc to discu...</td>\n",
       "    </tr>\n",
       "    <tr>\n",
       "      <th>memo_2</th>\n",
       "      <td>I will be based in New York, mainly tasked wit...</td>\n",
       "      <td>Industrial Property Overview\\n        Blue Ind...</td>\n",
       "      <td>They would like to see all core and value-add ...</td>\n",
       "    </tr>\n",
       "    <tr>\n",
       "      <th>memo_3</th>\n",
       "      <td>They intend to add a large subterranean retail...</td>\n",
       "      <td>Multi-Family Property Overview\\n        * Loca...</td>\n",
       "      <td>Circle Inc is aggressively looking to build th...</td>\n",
       "    </tr>\n",
       "    <tr>\n",
       "      <th>memo_4</th>\n",
       "      <td>They are seeking large office/residential/reta...</td>\n",
       "      <td>They are open to geographies and can do deals ...</td>\n",
       "      <td>Circle Inc is very focused on the following ma...</td>\n",
       "    </tr>\n",
       "  </tbody>\n",
       "</table>\n",
       "</div>"
      ],
      "text/plain": [
       "                                                 client_A  \\\n",
       "memo_1  I recently caught up with Adam of Argos Group ...   \n",
       "memo_2  I will be based in New York, mainly tasked wit...   \n",
       "memo_3  They intend to add a large subterranean retail...   \n",
       "memo_4  They are seeking large office/residential/reta...   \n",
       "\n",
       "                                                 client_B  \\\n",
       "memo_1  Retail Property Overview \\n        * Target in...   \n",
       "memo_2  Industrial Property Overview\\n        Blue Ind...   \n",
       "memo_3  Multi-Family Property Overview\\n        * Loca...   \n",
       "memo_4  They are open to geographies and can do deals ...   \n",
       "\n",
       "                                                 client_C  \n",
       "memo_1  I had a call with Carol at Circle Inc to discu...  \n",
       "memo_2  They would like to see all core and value-add ...  \n",
       "memo_3  Circle Inc is aggressively looking to build th...  \n",
       "memo_4  Circle Inc is very focused on the following ma...  "
      ]
     },
     "execution_count": 7,
     "metadata": {},
     "output_type": "execute_result"
    }
   ],
   "source": [
    "df"
   ]
  },
  {
   "cell_type": "markdown",
   "metadata": {},
   "source": [
    "## Problem 1\n",
    "- Multiple iterpretations of a word:\n",
    "    - multi-house\n",
    "    - MultiHouse\n",
    "    - multihouse\n",
    "    - ...\n",
    "\n",
    "## Solution!..(?) regular expressions\n",
    "Why?\n",
    "Quick and dirty"
   ]
  },
  {
   "cell_type": "markdown",
   "metadata": {},
   "source": [
    "### Multifamily problem"
   ]
  },
  {
   "cell_type": "code",
   "execution_count": 8,
   "metadata": {},
   "outputs": [
    {
     "data": {
      "text/plain": [
       "['multifamily', 'Multi-family', 'MULTIFAMILY']"
      ]
     },
     "execution_count": 8,
     "metadata": {},
     "output_type": "execute_result"
    }
   ],
   "source": [
    "multi_family = '(?i)mult*\\w*\\-?fam*\\w*'  # mUlTyFamily\n",
    "#text = df.client_C[3]\n",
    "text = 'This multifamily is not very good. my Multi-family is better. Not as good as my MULTIFAMILY'\n",
    "match = re.findall(multi_family,text)\n",
    "match"
   ]
  },
  {
   "cell_type": "markdown",
   "metadata": {},
   "source": [
    "## Client A"
   ]
  },
  {
   "cell_type": "code",
   "execution_count": 9,
   "metadata": {},
   "outputs": [
    {
     "name": "stdout",
     "output_type": "stream",
     "text": [
      "memo_1:[]\n",
      "memo_2:[]\n",
      "memo_3:[]\n",
      "memo_4:[]\n"
     ]
    }
   ],
   "source": [
    "for memo in df.client_A.index:\n",
    "    mm = df.client_A[memo]\n",
    "    match = re.findall(multi_family,mm)\n",
    "    print('{}:{}'.format(memo,match))"
   ]
  },
  {
   "cell_type": "markdown",
   "metadata": {},
   "source": [
    "## Client B"
   ]
  },
  {
   "cell_type": "code",
   "execution_count": 10,
   "metadata": {},
   "outputs": [
    {
     "name": "stdout",
     "output_type": "stream",
     "text": [
      "memo_1:[]\n",
      "memo_2:['multifamily']\n",
      "memo_3:['Multi-Family']\n",
      "memo_4:[]\n"
     ]
    }
   ],
   "source": [
    "for memo in df.client_B.index:\n",
    "    mm = df.client_B[memo]\n",
    "    match = re.findall(multi_family,mm)\n",
    "    print('{}:{}'.format(memo,match))"
   ]
  },
  {
   "cell_type": "markdown",
   "metadata": {},
   "source": [
    "## Client C"
   ]
  },
  {
   "cell_type": "code",
   "execution_count": 11,
   "metadata": {},
   "outputs": [
    {
     "name": "stdout",
     "output_type": "stream",
     "text": [
      "memo_1:[]\n",
      "memo_2:['multifamily']\n",
      "memo_3:[]\n",
      "memo_4:['multi-family', 'Multi-family', 'multi-family', 'multi-family']\n"
     ]
    }
   ],
   "source": [
    "for memo in df.client_C.index:\n",
    "    mm = df.client_C[memo]\n",
    "    match = re.findall(multi_family,mm)\n",
    "    print('{}:{}'.format(memo,match))"
   ]
  },
  {
   "cell_type": "markdown",
   "metadata": {},
   "source": [
    "## find money values in text"
   ]
  },
  {
   "cell_type": "code",
   "execution_count": 13,
   "metadata": {},
   "outputs": [
    {
     "data": {
      "text/plain": [
       "['20mm']"
      ]
     },
     "execution_count": 13,
     "metadata": {},
     "output_type": "execute_result"
    }
   ],
   "source": [
    "money = '\\$?(?i)\\d{1,3}[m|b]\\w*'  # CREAM\n",
    "#text = df.client_C[3]\n",
    "text = '''\n",
    "But you ain't a Saint, this ain't KumbaYe\n",
    "But you got hurt because you did cool by 'Ye\n",
    "You gave him 20mm without blinkin'\n",
    "He gave you 20 minutes on stage,...\n",
    "'''\n",
    "match = re.findall(money,text)\n",
    "match"
   ]
  },
  {
   "cell_type": "markdown",
   "metadata": {},
   "source": [
    "# Client A"
   ]
  },
  {
   "cell_type": "code",
   "execution_count": 14,
   "metadata": {},
   "outputs": [
    {
     "name": "stdout",
     "output_type": "stream",
     "text": [
      "memo_1:[]\n",
      "memo_2:['$30M']\n",
      "memo_3:[]\n",
      "memo_4:['70mm']\n"
     ]
    }
   ],
   "source": [
    "for memo in df.client_A.index:\n",
    "    mm = df.client_A[memo]\n",
    "    match = re.findall(money,mm)\n",
    "    print('{}:{}'.format(memo,match))"
   ]
  },
  {
   "cell_type": "markdown",
   "metadata": {},
   "source": [
    "## client B\n",
    "- cant find `$5.5B`"
   ]
  },
  {
   "cell_type": "code",
   "execution_count": 15,
   "metadata": {},
   "outputs": [
    {
     "name": "stdout",
     "output_type": "stream",
     "text": [
      "memo_1:[]\n",
      "memo_2:[]\n",
      "memo_3:['5B', '$250M', '$250M', '$100M']\n",
      "memo_4:['$50mm']\n"
     ]
    }
   ],
   "source": [
    "for memo in df.client_B.index:\n",
    "    mm = df.client_B[memo]\n",
    "    match = re.findall(money,mm)\n",
    "    print('{}:{}'.format(memo,match))"
   ]
  },
  {
   "cell_type": "markdown",
   "metadata": {},
   "source": [
    "## Client C"
   ]
  },
  {
   "cell_type": "code",
   "execution_count": 16,
   "metadata": {},
   "outputs": [
    {
     "name": "stdout",
     "output_type": "stream",
     "text": [
      "memo_1:[]\n",
      "memo_2:[]\n",
      "memo_3:[]\n",
      "memo_4:[]\n"
     ]
    }
   ],
   "source": [
    "for memo in df.client_C.index:\n",
    "    mm = df.client_C[memo]\n",
    "    match = re.findall(money,mm)\n",
    "    print('{}:{}'.format(memo,match))"
   ]
  },
  {
   "cell_type": "markdown",
   "metadata": {},
   "source": [
    "## Problem 2\n",
    "- domain specific words create problems with NER\n",
    "- ROC,HOA,..\n",
    "\n",
    "## Solution\n",
    "- replace words from domain dictionary"
   ]
  },
  {
   "cell_type": "code",
   "execution_count": 17,
   "metadata": {},
   "outputs": [],
   "source": [
    "# function to display domain acronims\n",
    "def domain_words(text):\n",
    "    for word in text.split():\n",
    "        if word  in RE_MAP:\n",
    "            print('{}: {}'.format(word,RE_MAP[word]))\n",
    "            #text = text.replace(word, RE_MAP[word])\n",
    "        if word  in REA_MAP:\n",
    "            print('{}: {}'.format(word,REA_MAP[word]))\n",
    "            #text = text.replace(word, REA_MAP[word])\n",
    "    #return text"
   ]
  },
  {
   "cell_type": "code",
   "execution_count": null,
   "metadata": {},
   "outputs": [],
   "source": []
  },
  {
   "cell_type": "markdown",
   "metadata": {},
   "source": [
    "## Client A"
   ]
  },
  {
   "cell_type": "code",
   "execution_count": 19,
   "metadata": {},
   "outputs": [
    {
     "name": "stdout",
     "output_type": "stream",
     "text": [
      "None\n",
      "JV: Joint Venture\n",
      "M&A:  Mergers and Acquisitions\n",
      "None\n",
      "None\n",
      "None\n"
     ]
    }
   ],
   "source": [
    "for memo in df.client_A.index:\n",
    "    mm = df.client_A[memo]\n",
    "    dd = domain_words(mm)\n",
    "    print(dd)"
   ]
  },
  {
   "cell_type": "markdown",
   "metadata": {},
   "source": [
    "## Client B"
   ]
  },
  {
   "cell_type": "code",
   "execution_count": 20,
   "metadata": {},
   "outputs": [
    {
     "name": "stdout",
     "output_type": "stream",
     "text": [
      "None\n",
      "REIT: Real Estate Investment Trust\n",
      "REIT: Real Estate Investment Trust\n",
      "IRR: Internal Rate of Return\n",
      "None\n",
      "None\n",
      "None\n"
     ]
    }
   ],
   "source": [
    "for memo in df.client_B.index:\n",
    "    mm = df.client_B[memo]\n",
    "    dd = domain_words(mm)\n",
    "    print(dd)"
   ]
  },
  {
   "cell_type": "markdown",
   "metadata": {},
   "source": [
    "## Client C"
   ]
  },
  {
   "cell_type": "code",
   "execution_count": 21,
   "metadata": {},
   "outputs": [
    {
     "name": "stdout",
     "output_type": "stream",
     "text": [
      "None\n",
      "None\n",
      "MH: Manufactured Housing\n",
      "None\n",
      "None\n"
     ]
    }
   ],
   "source": [
    "for memo in df.client_C.index:\n",
    "    mm = df.client_C[memo]\n",
    "    dd = domain_words(mm)\n",
    "    print(dd)"
   ]
  },
  {
   "cell_type": "code",
   "execution_count": null,
   "metadata": {},
   "outputs": [],
   "source": []
  }
 ],
 "metadata": {
  "kernelspec": {
   "display_name": "Python 3",
   "language": "python",
   "name": "python3"
  },
  "language_info": {
   "codemirror_mode": {
    "name": "ipython",
    "version": 3
   },
   "file_extension": ".py",
   "mimetype": "text/x-python",
   "name": "python",
   "nbconvert_exporter": "python",
   "pygments_lexer": "ipython3",
   "version": "3.7.1"
  }
 },
 "nbformat": 4,
 "nbformat_minor": 2
}
